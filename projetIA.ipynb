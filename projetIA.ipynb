{
 "cells": [
  {
   "cell_type": "markdown",
   "source": [
    "# IA for HumanForYou"
   ],
   "metadata": {
    "collapsed": false,
    "pycharm": {
     "name": "#%% md\n"
    }
   }
  },
  {
   "cell_type": "markdown",
   "source": [
    "## Context\n",
    "\n",
    "L'entreprise de produits pharmaceutiques HumanForYou basée en Inde emploie environ 4000 personnes. Cependant, chaque année elle subit un turn-over d'environ 15% de ses employés nécessitant de retrouver des profils similaires sur le marché de l'emploi.\n",
    "\n",
    "La direction trouve que ce niveau de turn-over n'est pas bon pour l'entreprise car :\n",
    "\n",
    "Les projets sur lesquels étaient les employés quittant la société prennent du retard ce qui nuit à la réputation de l'entreprise auprès de ses clients et partenaires.\n",
    "\n",
    "Un service de ressources humaines de taille conséquente doit être conservé car il faut avoir les moyens de trouver les nouvelles recrues.\n",
    "\n",
    "Du temps est perdu à l'arrivée des nouveaux employés car ils doivent très souvent être formés et ont besoin de temps pour devenir pleinement opérationnels dans leur nouvel environnement.\n",
    "\n",
    "Le direction fait donc appel à vous, spécialistes de l'analyse de données, pour déterminer les facteurs ayant le plus d'influence sur ce taux de turn-over et lui proposer des modèles afin d'avoir des pistes d'amélioration pour donner à leurs employés l'envie de rester.\n",
    "\n",
    "Données fournies\n",
    "Un certain nombre de données concernant les employés vous a donc été transmis par le service des ressources humaines.\n",
    "\n",
    "Il s'agit de fichiers textes au format CSV.\n",
    "\n",
    "Les données ont été anonymisées : un employé de l'entreprise sera représenté par le même EmployeeID dans l'ensemble des fichiers qui suivent."
   ],
   "metadata": {
    "collapsed": false,
    "pycharm": {
     "name": "#%% md\n"
    }
   }
  },
  {
   "cell_type": "code",
   "execution_count": 1,
   "outputs": [],
   "source": [
    "# imports\n",
    "import numpy as np\n",
    "import os\n",
    "import pandas as pd\n",
    "from six.moves import urllib\n",
    "from zipfile import ZipFile"
   ],
   "metadata": {
    "collapsed": false,
    "pycharm": {
     "name": "#%%\n"
    }
   }
  },
  {
   "cell_type": "markdown",
   "source": [
    "## Import des données\n",
    "\n",
    "On va importer toutes les données dans des tableaux"
   ],
   "metadata": {
    "collapsed": false,
    "pycharm": {
     "name": "#%% md\n"
    }
   }
  },
  {
   "cell_type": "code",
   "execution_count": 28,
   "outputs": [],
   "source": [
    "DOWNLOAD_ROOT = \"https://github.com/Teerath67/Projet-IA/raw/master/data.zip\"\n",
    "DATA_PATH = os.path.join(\"datasets\", \"data\")\n",
    "\n",
    "MANAGER_SURVEY_CSV = \"manager_survey_data.csv\"\n",
    "EMPLOYEE_SURVEY_CSV = \"employee_survey_data.csv\"\n",
    "GENERAL_CSV = \"general_data.csv\"\n",
    "IN_TIME_CSV = \"in_time.csv\"\n",
    "OUT_TIME_CSV = \"out_time.csv\"\n",
    "\n",
    "def fetch_data(download_url=DOWNLOAD_ROOT, data_path=DATA_PATH):\n",
    "    if not os.path.isdir(data_path):\n",
    "        os.makedirs(data_path)\n",
    "    zip_path = os.path.join(data_path, \"data.zip\")\n",
    "    urllib.request.urlretrieve(download_url, zip_path)\n",
    "    data_zip = ZipFile(zip_path, 'r')\n",
    "    data_zip.extractall(path=data_path)\n",
    "    data_zip.close()\n",
    "\n",
    "def load_data(general_path, csv):\n",
    "    csv_path = os.path.join(general_path, csv)\n",
    "    df = pd.read_csv(csv_path, sep=\",\", header = 0)\n",
    "    return df\n",
    "\n",
    "fetch_data()"
   ],
   "metadata": {
    "collapsed": false,
    "pycharm": {
     "name": "#%%\n"
    }
   }
  },
  {
   "cell_type": "code",
   "execution_count": 29,
   "outputs": [],
   "source": [
    "general = load_data(DATA_PATH, GENERAL_CSV)\n",
    "in_time = load_data(DATA_PATH, IN_TIME_CSV)\n",
    "out_time = load_data(DATA_PATH, OUT_TIME_CSV)\n",
    "manager_survey = load_data(DATA_PATH, MANAGER_SURVEY_CSV)\n",
    "employee_survey = load_data(DATA_PATH, EMPLOYEE_SURVEY_CSV)"
   ],
   "metadata": {
    "collapsed": false,
    "pycharm": {
     "name": "#%%\n"
    }
   }
  },
  {
   "cell_type": "markdown",
   "source": [
    "## Check des données\n",
    "\n",
    "On va regarder les prmières lignes des données"
   ],
   "metadata": {
    "collapsed": false,
    "pycharm": {
     "name": "#%% md\n"
    }
   }
  },
  {
   "cell_type": "code",
   "execution_count": 30,
   "outputs": [
    {
     "data": {
      "text/plain": "   Age Attrition     BusinessTravel              Department  DistanceFromHome  \\\n0   51        No      Travel_Rarely                   Sales                 6   \n1   31       Yes  Travel_Frequently  Research & Development                10   \n2   32        No  Travel_Frequently  Research & Development                17   \n3   38        No         Non-Travel  Research & Development                 2   \n4   32        No      Travel_Rarely  Research & Development                10   \n\n   Education EducationField  EmployeeCount  EmployeeID  Gender  ...  \\\n0          2  Life Sciences              1           1  Female  ...   \n1          1  Life Sciences              1           2  Female  ...   \n2          4          Other              1           3    Male  ...   \n3          5  Life Sciences              1           4    Male  ...   \n4          1        Medical              1           5    Male  ...   \n\n   NumCompaniesWorked Over18 PercentSalaryHike  StandardHours  \\\n0                 1.0      Y                11              8   \n1                 0.0      Y                23              8   \n2                 1.0      Y                15              8   \n3                 3.0      Y                11              8   \n4                 4.0      Y                12              8   \n\n   StockOptionLevel TotalWorkingYears  TrainingTimesLastYear  YearsAtCompany  \\\n0                 0               1.0                      6               1   \n1                 1               6.0                      3               5   \n2                 3               5.0                      2               5   \n3                 3              13.0                      5               8   \n4                 2               9.0                      2               6   \n\n   YearsSinceLastPromotion  YearsWithCurrManager  \n0                        0                     0  \n1                        1                     4  \n2                        0                     3  \n3                        7                     5  \n4                        0                     4  \n\n[5 rows x 24 columns]",
      "text/html": "<div>\n<style scoped>\n    .dataframe tbody tr th:only-of-type {\n        vertical-align: middle;\n    }\n\n    .dataframe tbody tr th {\n        vertical-align: top;\n    }\n\n    .dataframe thead th {\n        text-align: right;\n    }\n</style>\n<table border=\"1\" class=\"dataframe\">\n  <thead>\n    <tr style=\"text-align: right;\">\n      <th></th>\n      <th>Age</th>\n      <th>Attrition</th>\n      <th>BusinessTravel</th>\n      <th>Department</th>\n      <th>DistanceFromHome</th>\n      <th>Education</th>\n      <th>EducationField</th>\n      <th>EmployeeCount</th>\n      <th>EmployeeID</th>\n      <th>Gender</th>\n      <th>...</th>\n      <th>NumCompaniesWorked</th>\n      <th>Over18</th>\n      <th>PercentSalaryHike</th>\n      <th>StandardHours</th>\n      <th>StockOptionLevel</th>\n      <th>TotalWorkingYears</th>\n      <th>TrainingTimesLastYear</th>\n      <th>YearsAtCompany</th>\n      <th>YearsSinceLastPromotion</th>\n      <th>YearsWithCurrManager</th>\n    </tr>\n  </thead>\n  <tbody>\n    <tr>\n      <th>0</th>\n      <td>51</td>\n      <td>No</td>\n      <td>Travel_Rarely</td>\n      <td>Sales</td>\n      <td>6</td>\n      <td>2</td>\n      <td>Life Sciences</td>\n      <td>1</td>\n      <td>1</td>\n      <td>Female</td>\n      <td>...</td>\n      <td>1.0</td>\n      <td>Y</td>\n      <td>11</td>\n      <td>8</td>\n      <td>0</td>\n      <td>1.0</td>\n      <td>6</td>\n      <td>1</td>\n      <td>0</td>\n      <td>0</td>\n    </tr>\n    <tr>\n      <th>1</th>\n      <td>31</td>\n      <td>Yes</td>\n      <td>Travel_Frequently</td>\n      <td>Research &amp; Development</td>\n      <td>10</td>\n      <td>1</td>\n      <td>Life Sciences</td>\n      <td>1</td>\n      <td>2</td>\n      <td>Female</td>\n      <td>...</td>\n      <td>0.0</td>\n      <td>Y</td>\n      <td>23</td>\n      <td>8</td>\n      <td>1</td>\n      <td>6.0</td>\n      <td>3</td>\n      <td>5</td>\n      <td>1</td>\n      <td>4</td>\n    </tr>\n    <tr>\n      <th>2</th>\n      <td>32</td>\n      <td>No</td>\n      <td>Travel_Frequently</td>\n      <td>Research &amp; Development</td>\n      <td>17</td>\n      <td>4</td>\n      <td>Other</td>\n      <td>1</td>\n      <td>3</td>\n      <td>Male</td>\n      <td>...</td>\n      <td>1.0</td>\n      <td>Y</td>\n      <td>15</td>\n      <td>8</td>\n      <td>3</td>\n      <td>5.0</td>\n      <td>2</td>\n      <td>5</td>\n      <td>0</td>\n      <td>3</td>\n    </tr>\n    <tr>\n      <th>3</th>\n      <td>38</td>\n      <td>No</td>\n      <td>Non-Travel</td>\n      <td>Research &amp; Development</td>\n      <td>2</td>\n      <td>5</td>\n      <td>Life Sciences</td>\n      <td>1</td>\n      <td>4</td>\n      <td>Male</td>\n      <td>...</td>\n      <td>3.0</td>\n      <td>Y</td>\n      <td>11</td>\n      <td>8</td>\n      <td>3</td>\n      <td>13.0</td>\n      <td>5</td>\n      <td>8</td>\n      <td>7</td>\n      <td>5</td>\n    </tr>\n    <tr>\n      <th>4</th>\n      <td>32</td>\n      <td>No</td>\n      <td>Travel_Rarely</td>\n      <td>Research &amp; Development</td>\n      <td>10</td>\n      <td>1</td>\n      <td>Medical</td>\n      <td>1</td>\n      <td>5</td>\n      <td>Male</td>\n      <td>...</td>\n      <td>4.0</td>\n      <td>Y</td>\n      <td>12</td>\n      <td>8</td>\n      <td>2</td>\n      <td>9.0</td>\n      <td>2</td>\n      <td>6</td>\n      <td>0</td>\n      <td>4</td>\n    </tr>\n  </tbody>\n</table>\n<p>5 rows × 24 columns</p>\n</div>"
     },
     "execution_count": 30,
     "metadata": {},
     "output_type": "execute_result"
    }
   ],
   "source": [
    "general.head()"
   ],
   "metadata": {
    "collapsed": false,
    "pycharm": {
     "name": "#%%\n"
    }
   }
  },
  {
   "cell_type": "code",
   "execution_count": 31,
   "outputs": [
    {
     "data": {
      "text/plain": "   Unnamed: 0  2015-01-01           2015-01-02           2015-01-05  \\\n0           1         NaN  2015-01-02 09:43:45  2015-01-05 10:08:48   \n1           2         NaN  2015-01-02 10:15:44  2015-01-05 10:21:05   \n2           3         NaN  2015-01-02 10:17:41  2015-01-05 09:50:50   \n3           4         NaN  2015-01-02 10:05:06  2015-01-05 09:56:32   \n4           5         NaN  2015-01-02 10:28:17  2015-01-05 09:49:58   \n\n            2015-01-06           2015-01-07           2015-01-08  \\\n0  2015-01-06 09:54:26  2015-01-07 09:34:31  2015-01-08 09:51:09   \n1                  NaN  2015-01-07 09:45:17  2015-01-08 10:09:04   \n2  2015-01-06 10:14:13  2015-01-07 09:47:27  2015-01-08 10:03:40   \n3  2015-01-06 10:11:07  2015-01-07 09:37:30  2015-01-08 10:02:08   \n4  2015-01-06 09:45:28  2015-01-07 09:49:37  2015-01-08 10:19:44   \n\n            2015-01-09           2015-01-12           2015-01-13  ...  \\\n0  2015-01-09 10:09:25  2015-01-12 09:42:53  2015-01-13 10:13:06  ...   \n1  2015-01-09 09:43:26  2015-01-12 10:00:07  2015-01-13 10:43:29  ...   \n2  2015-01-09 10:05:49  2015-01-12 10:03:47  2015-01-13 10:21:26  ...   \n3  2015-01-09 10:08:12  2015-01-12 10:13:42  2015-01-13 09:53:22  ...   \n4  2015-01-09 10:00:50  2015-01-12 10:29:27  2015-01-13 09:59:32  ...   \n\n            2015-12-18           2015-12-21           2015-12-22  \\\n0                  NaN  2015-12-21 09:55:29  2015-12-22 10:04:06   \n1  2015-12-18 10:37:17  2015-12-21 09:49:02  2015-12-22 10:33:51   \n2  2015-12-18 10:15:14  2015-12-21 10:10:28  2015-12-22 09:44:44   \n3  2015-12-18 10:17:38  2015-12-21 09:58:21  2015-12-22 10:04:25   \n4  2015-12-18 09:58:35  2015-12-21 10:03:41  2015-12-22 10:10:30   \n\n            2015-12-23           2015-12-24 2015-12-25           2015-12-28  \\\n0  2015-12-23 10:14:27  2015-12-24 10:11:35        NaN  2015-12-28 10:13:41   \n1  2015-12-23 10:12:10                  NaN        NaN  2015-12-28 09:31:45   \n2  2015-12-23 10:15:54  2015-12-24 10:07:26        NaN  2015-12-28 09:42:05   \n3  2015-12-23 10:11:46  2015-12-24 09:43:15        NaN  2015-12-28 09:52:44   \n4  2015-12-23 10:13:36  2015-12-24 09:44:24        NaN  2015-12-28 10:05:15   \n\n            2015-12-29           2015-12-30           2015-12-31  \n0  2015-12-29 10:03:36  2015-12-30 09:54:12  2015-12-31 10:12:44  \n1  2015-12-29 09:55:49  2015-12-30 10:32:25  2015-12-31 09:27:20  \n2  2015-12-29 09:43:36  2015-12-30 09:34:05  2015-12-31 10:28:39  \n3  2015-12-29 09:33:16  2015-12-30 10:18:12  2015-12-31 10:01:15  \n4  2015-12-29 10:30:53  2015-12-30 09:18:21  2015-12-31 09:41:09  \n\n[5 rows x 262 columns]",
      "text/html": "<div>\n<style scoped>\n    .dataframe tbody tr th:only-of-type {\n        vertical-align: middle;\n    }\n\n    .dataframe tbody tr th {\n        vertical-align: top;\n    }\n\n    .dataframe thead th {\n        text-align: right;\n    }\n</style>\n<table border=\"1\" class=\"dataframe\">\n  <thead>\n    <tr style=\"text-align: right;\">\n      <th></th>\n      <th>Unnamed: 0</th>\n      <th>2015-01-01</th>\n      <th>2015-01-02</th>\n      <th>2015-01-05</th>\n      <th>2015-01-06</th>\n      <th>2015-01-07</th>\n      <th>2015-01-08</th>\n      <th>2015-01-09</th>\n      <th>2015-01-12</th>\n      <th>2015-01-13</th>\n      <th>...</th>\n      <th>2015-12-18</th>\n      <th>2015-12-21</th>\n      <th>2015-12-22</th>\n      <th>2015-12-23</th>\n      <th>2015-12-24</th>\n      <th>2015-12-25</th>\n      <th>2015-12-28</th>\n      <th>2015-12-29</th>\n      <th>2015-12-30</th>\n      <th>2015-12-31</th>\n    </tr>\n  </thead>\n  <tbody>\n    <tr>\n      <th>0</th>\n      <td>1</td>\n      <td>NaN</td>\n      <td>2015-01-02 09:43:45</td>\n      <td>2015-01-05 10:08:48</td>\n      <td>2015-01-06 09:54:26</td>\n      <td>2015-01-07 09:34:31</td>\n      <td>2015-01-08 09:51:09</td>\n      <td>2015-01-09 10:09:25</td>\n      <td>2015-01-12 09:42:53</td>\n      <td>2015-01-13 10:13:06</td>\n      <td>...</td>\n      <td>NaN</td>\n      <td>2015-12-21 09:55:29</td>\n      <td>2015-12-22 10:04:06</td>\n      <td>2015-12-23 10:14:27</td>\n      <td>2015-12-24 10:11:35</td>\n      <td>NaN</td>\n      <td>2015-12-28 10:13:41</td>\n      <td>2015-12-29 10:03:36</td>\n      <td>2015-12-30 09:54:12</td>\n      <td>2015-12-31 10:12:44</td>\n    </tr>\n    <tr>\n      <th>1</th>\n      <td>2</td>\n      <td>NaN</td>\n      <td>2015-01-02 10:15:44</td>\n      <td>2015-01-05 10:21:05</td>\n      <td>NaN</td>\n      <td>2015-01-07 09:45:17</td>\n      <td>2015-01-08 10:09:04</td>\n      <td>2015-01-09 09:43:26</td>\n      <td>2015-01-12 10:00:07</td>\n      <td>2015-01-13 10:43:29</td>\n      <td>...</td>\n      <td>2015-12-18 10:37:17</td>\n      <td>2015-12-21 09:49:02</td>\n      <td>2015-12-22 10:33:51</td>\n      <td>2015-12-23 10:12:10</td>\n      <td>NaN</td>\n      <td>NaN</td>\n      <td>2015-12-28 09:31:45</td>\n      <td>2015-12-29 09:55:49</td>\n      <td>2015-12-30 10:32:25</td>\n      <td>2015-12-31 09:27:20</td>\n    </tr>\n    <tr>\n      <th>2</th>\n      <td>3</td>\n      <td>NaN</td>\n      <td>2015-01-02 10:17:41</td>\n      <td>2015-01-05 09:50:50</td>\n      <td>2015-01-06 10:14:13</td>\n      <td>2015-01-07 09:47:27</td>\n      <td>2015-01-08 10:03:40</td>\n      <td>2015-01-09 10:05:49</td>\n      <td>2015-01-12 10:03:47</td>\n      <td>2015-01-13 10:21:26</td>\n      <td>...</td>\n      <td>2015-12-18 10:15:14</td>\n      <td>2015-12-21 10:10:28</td>\n      <td>2015-12-22 09:44:44</td>\n      <td>2015-12-23 10:15:54</td>\n      <td>2015-12-24 10:07:26</td>\n      <td>NaN</td>\n      <td>2015-12-28 09:42:05</td>\n      <td>2015-12-29 09:43:36</td>\n      <td>2015-12-30 09:34:05</td>\n      <td>2015-12-31 10:28:39</td>\n    </tr>\n    <tr>\n      <th>3</th>\n      <td>4</td>\n      <td>NaN</td>\n      <td>2015-01-02 10:05:06</td>\n      <td>2015-01-05 09:56:32</td>\n      <td>2015-01-06 10:11:07</td>\n      <td>2015-01-07 09:37:30</td>\n      <td>2015-01-08 10:02:08</td>\n      <td>2015-01-09 10:08:12</td>\n      <td>2015-01-12 10:13:42</td>\n      <td>2015-01-13 09:53:22</td>\n      <td>...</td>\n      <td>2015-12-18 10:17:38</td>\n      <td>2015-12-21 09:58:21</td>\n      <td>2015-12-22 10:04:25</td>\n      <td>2015-12-23 10:11:46</td>\n      <td>2015-12-24 09:43:15</td>\n      <td>NaN</td>\n      <td>2015-12-28 09:52:44</td>\n      <td>2015-12-29 09:33:16</td>\n      <td>2015-12-30 10:18:12</td>\n      <td>2015-12-31 10:01:15</td>\n    </tr>\n    <tr>\n      <th>4</th>\n      <td>5</td>\n      <td>NaN</td>\n      <td>2015-01-02 10:28:17</td>\n      <td>2015-01-05 09:49:58</td>\n      <td>2015-01-06 09:45:28</td>\n      <td>2015-01-07 09:49:37</td>\n      <td>2015-01-08 10:19:44</td>\n      <td>2015-01-09 10:00:50</td>\n      <td>2015-01-12 10:29:27</td>\n      <td>2015-01-13 09:59:32</td>\n      <td>...</td>\n      <td>2015-12-18 09:58:35</td>\n      <td>2015-12-21 10:03:41</td>\n      <td>2015-12-22 10:10:30</td>\n      <td>2015-12-23 10:13:36</td>\n      <td>2015-12-24 09:44:24</td>\n      <td>NaN</td>\n      <td>2015-12-28 10:05:15</td>\n      <td>2015-12-29 10:30:53</td>\n      <td>2015-12-30 09:18:21</td>\n      <td>2015-12-31 09:41:09</td>\n    </tr>\n  </tbody>\n</table>\n<p>5 rows × 262 columns</p>\n</div>"
     },
     "execution_count": 31,
     "metadata": {},
     "output_type": "execute_result"
    }
   ],
   "source": [
    "in_time.head()"
   ],
   "metadata": {
    "collapsed": false,
    "pycharm": {
     "name": "#%%\n"
    }
   }
  },
  {
   "cell_type": "code",
   "execution_count": 32,
   "outputs": [
    {
     "data": {
      "text/plain": "   Unnamed: 0  2015-01-01           2015-01-02           2015-01-05  \\\n0           1         NaN  2015-01-02 16:56:15  2015-01-05 17:20:11   \n1           2         NaN  2015-01-02 18:22:17  2015-01-05 17:48:22   \n2           3         NaN  2015-01-02 16:59:14  2015-01-05 17:06:46   \n3           4         NaN  2015-01-02 17:25:24  2015-01-05 17:14:03   \n4           5         NaN  2015-01-02 18:31:37  2015-01-05 17:49:15   \n\n            2015-01-06           2015-01-07           2015-01-08  \\\n0  2015-01-06 17:19:05  2015-01-07 16:34:55  2015-01-08 17:08:32   \n1                  NaN  2015-01-07 17:09:06  2015-01-08 17:34:04   \n2  2015-01-06 16:38:32  2015-01-07 16:33:21  2015-01-08 17:24:22   \n3  2015-01-06 17:07:42  2015-01-07 16:32:40  2015-01-08 16:53:11   \n4  2015-01-06 17:26:25  2015-01-07 17:37:59  2015-01-08 17:59:28   \n\n            2015-01-09           2015-01-12           2015-01-13  ...  \\\n0  2015-01-09 17:38:29  2015-01-12 16:58:39  2015-01-13 18:02:58  ...   \n1  2015-01-09 16:52:29  2015-01-12 17:36:48  2015-01-13 18:00:13  ...   \n2  2015-01-09 16:57:30  2015-01-12 17:28:54  2015-01-13 17:21:25  ...   \n3  2015-01-09 17:19:47  2015-01-12 17:13:37  2015-01-13 17:11:45  ...   \n4  2015-01-09 17:44:08  2015-01-12 18:51:21  2015-01-13 18:14:58  ...   \n\n            2015-12-18           2015-12-21           2015-12-22  \\\n0                  NaN  2015-12-21 17:15:50  2015-12-22 17:27:51   \n1  2015-12-18 18:31:28  2015-12-21 17:34:16  2015-12-22 18:16:35   \n2  2015-12-18 17:02:23  2015-12-21 17:20:17  2015-12-22 16:32:50   \n3  2015-12-18 17:55:23  2015-12-21 16:49:09  2015-12-22 17:24:00   \n4  2015-12-18 17:52:48  2015-12-21 17:43:35  2015-12-22 18:07:57   \n\n            2015-12-23           2015-12-24 2015-12-25           2015-12-28  \\\n0  2015-12-23 16:44:44  2015-12-24 17:47:22        NaN  2015-12-28 18:00:07   \n1  2015-12-23 17:38:18                  NaN        NaN  2015-12-28 17:08:38   \n2  2015-12-23 16:59:43  2015-12-24 16:58:25        NaN  2015-12-28 16:43:31   \n3  2015-12-23 17:36:35  2015-12-24 16:48:21        NaN  2015-12-28 17:19:34   \n4  2015-12-23 18:00:49  2015-12-24 17:59:22        NaN  2015-12-28 17:44:59   \n\n            2015-12-29           2015-12-30           2015-12-31  \n0  2015-12-29 17:22:30  2015-12-30 17:40:56  2015-12-31 17:17:33  \n1  2015-12-29 17:54:46  2015-12-30 18:31:35  2015-12-31 17:40:58  \n2  2015-12-29 17:09:56  2015-12-30 17:06:25  2015-12-31 17:15:50  \n3  2015-12-29 16:58:16  2015-12-30 17:40:11  2015-12-31 17:09:14  \n4  2015-12-29 18:47:00  2015-12-30 17:15:33  2015-12-31 17:42:14  \n\n[5 rows x 262 columns]",
      "text/html": "<div>\n<style scoped>\n    .dataframe tbody tr th:only-of-type {\n        vertical-align: middle;\n    }\n\n    .dataframe tbody tr th {\n        vertical-align: top;\n    }\n\n    .dataframe thead th {\n        text-align: right;\n    }\n</style>\n<table border=\"1\" class=\"dataframe\">\n  <thead>\n    <tr style=\"text-align: right;\">\n      <th></th>\n      <th>Unnamed: 0</th>\n      <th>2015-01-01</th>\n      <th>2015-01-02</th>\n      <th>2015-01-05</th>\n      <th>2015-01-06</th>\n      <th>2015-01-07</th>\n      <th>2015-01-08</th>\n      <th>2015-01-09</th>\n      <th>2015-01-12</th>\n      <th>2015-01-13</th>\n      <th>...</th>\n      <th>2015-12-18</th>\n      <th>2015-12-21</th>\n      <th>2015-12-22</th>\n      <th>2015-12-23</th>\n      <th>2015-12-24</th>\n      <th>2015-12-25</th>\n      <th>2015-12-28</th>\n      <th>2015-12-29</th>\n      <th>2015-12-30</th>\n      <th>2015-12-31</th>\n    </tr>\n  </thead>\n  <tbody>\n    <tr>\n      <th>0</th>\n      <td>1</td>\n      <td>NaN</td>\n      <td>2015-01-02 16:56:15</td>\n      <td>2015-01-05 17:20:11</td>\n      <td>2015-01-06 17:19:05</td>\n      <td>2015-01-07 16:34:55</td>\n      <td>2015-01-08 17:08:32</td>\n      <td>2015-01-09 17:38:29</td>\n      <td>2015-01-12 16:58:39</td>\n      <td>2015-01-13 18:02:58</td>\n      <td>...</td>\n      <td>NaN</td>\n      <td>2015-12-21 17:15:50</td>\n      <td>2015-12-22 17:27:51</td>\n      <td>2015-12-23 16:44:44</td>\n      <td>2015-12-24 17:47:22</td>\n      <td>NaN</td>\n      <td>2015-12-28 18:00:07</td>\n      <td>2015-12-29 17:22:30</td>\n      <td>2015-12-30 17:40:56</td>\n      <td>2015-12-31 17:17:33</td>\n    </tr>\n    <tr>\n      <th>1</th>\n      <td>2</td>\n      <td>NaN</td>\n      <td>2015-01-02 18:22:17</td>\n      <td>2015-01-05 17:48:22</td>\n      <td>NaN</td>\n      <td>2015-01-07 17:09:06</td>\n      <td>2015-01-08 17:34:04</td>\n      <td>2015-01-09 16:52:29</td>\n      <td>2015-01-12 17:36:48</td>\n      <td>2015-01-13 18:00:13</td>\n      <td>...</td>\n      <td>2015-12-18 18:31:28</td>\n      <td>2015-12-21 17:34:16</td>\n      <td>2015-12-22 18:16:35</td>\n      <td>2015-12-23 17:38:18</td>\n      <td>NaN</td>\n      <td>NaN</td>\n      <td>2015-12-28 17:08:38</td>\n      <td>2015-12-29 17:54:46</td>\n      <td>2015-12-30 18:31:35</td>\n      <td>2015-12-31 17:40:58</td>\n    </tr>\n    <tr>\n      <th>2</th>\n      <td>3</td>\n      <td>NaN</td>\n      <td>2015-01-02 16:59:14</td>\n      <td>2015-01-05 17:06:46</td>\n      <td>2015-01-06 16:38:32</td>\n      <td>2015-01-07 16:33:21</td>\n      <td>2015-01-08 17:24:22</td>\n      <td>2015-01-09 16:57:30</td>\n      <td>2015-01-12 17:28:54</td>\n      <td>2015-01-13 17:21:25</td>\n      <td>...</td>\n      <td>2015-12-18 17:02:23</td>\n      <td>2015-12-21 17:20:17</td>\n      <td>2015-12-22 16:32:50</td>\n      <td>2015-12-23 16:59:43</td>\n      <td>2015-12-24 16:58:25</td>\n      <td>NaN</td>\n      <td>2015-12-28 16:43:31</td>\n      <td>2015-12-29 17:09:56</td>\n      <td>2015-12-30 17:06:25</td>\n      <td>2015-12-31 17:15:50</td>\n    </tr>\n    <tr>\n      <th>3</th>\n      <td>4</td>\n      <td>NaN</td>\n      <td>2015-01-02 17:25:24</td>\n      <td>2015-01-05 17:14:03</td>\n      <td>2015-01-06 17:07:42</td>\n      <td>2015-01-07 16:32:40</td>\n      <td>2015-01-08 16:53:11</td>\n      <td>2015-01-09 17:19:47</td>\n      <td>2015-01-12 17:13:37</td>\n      <td>2015-01-13 17:11:45</td>\n      <td>...</td>\n      <td>2015-12-18 17:55:23</td>\n      <td>2015-12-21 16:49:09</td>\n      <td>2015-12-22 17:24:00</td>\n      <td>2015-12-23 17:36:35</td>\n      <td>2015-12-24 16:48:21</td>\n      <td>NaN</td>\n      <td>2015-12-28 17:19:34</td>\n      <td>2015-12-29 16:58:16</td>\n      <td>2015-12-30 17:40:11</td>\n      <td>2015-12-31 17:09:14</td>\n    </tr>\n    <tr>\n      <th>4</th>\n      <td>5</td>\n      <td>NaN</td>\n      <td>2015-01-02 18:31:37</td>\n      <td>2015-01-05 17:49:15</td>\n      <td>2015-01-06 17:26:25</td>\n      <td>2015-01-07 17:37:59</td>\n      <td>2015-01-08 17:59:28</td>\n      <td>2015-01-09 17:44:08</td>\n      <td>2015-01-12 18:51:21</td>\n      <td>2015-01-13 18:14:58</td>\n      <td>...</td>\n      <td>2015-12-18 17:52:48</td>\n      <td>2015-12-21 17:43:35</td>\n      <td>2015-12-22 18:07:57</td>\n      <td>2015-12-23 18:00:49</td>\n      <td>2015-12-24 17:59:22</td>\n      <td>NaN</td>\n      <td>2015-12-28 17:44:59</td>\n      <td>2015-12-29 18:47:00</td>\n      <td>2015-12-30 17:15:33</td>\n      <td>2015-12-31 17:42:14</td>\n    </tr>\n  </tbody>\n</table>\n<p>5 rows × 262 columns</p>\n</div>"
     },
     "execution_count": 32,
     "metadata": {},
     "output_type": "execute_result"
    }
   ],
   "source": [
    "out_time.head()"
   ],
   "metadata": {
    "collapsed": false,
    "pycharm": {
     "name": "#%%\n"
    }
   }
  },
  {
   "cell_type": "code",
   "execution_count": 33,
   "outputs": [
    {
     "data": {
      "text/plain": "   EmployeeID  JobInvolvement  PerformanceRating\n0           1               3                  3\n1           2               2                  4\n2           3               3                  3\n3           4               2                  3\n4           5               3                  3",
      "text/html": "<div>\n<style scoped>\n    .dataframe tbody tr th:only-of-type {\n        vertical-align: middle;\n    }\n\n    .dataframe tbody tr th {\n        vertical-align: top;\n    }\n\n    .dataframe thead th {\n        text-align: right;\n    }\n</style>\n<table border=\"1\" class=\"dataframe\">\n  <thead>\n    <tr style=\"text-align: right;\">\n      <th></th>\n      <th>EmployeeID</th>\n      <th>JobInvolvement</th>\n      <th>PerformanceRating</th>\n    </tr>\n  </thead>\n  <tbody>\n    <tr>\n      <th>0</th>\n      <td>1</td>\n      <td>3</td>\n      <td>3</td>\n    </tr>\n    <tr>\n      <th>1</th>\n      <td>2</td>\n      <td>2</td>\n      <td>4</td>\n    </tr>\n    <tr>\n      <th>2</th>\n      <td>3</td>\n      <td>3</td>\n      <td>3</td>\n    </tr>\n    <tr>\n      <th>3</th>\n      <td>4</td>\n      <td>2</td>\n      <td>3</td>\n    </tr>\n    <tr>\n      <th>4</th>\n      <td>5</td>\n      <td>3</td>\n      <td>3</td>\n    </tr>\n  </tbody>\n</table>\n</div>"
     },
     "execution_count": 33,
     "metadata": {},
     "output_type": "execute_result"
    }
   ],
   "source": [
    "manager_survey.head()"
   ],
   "metadata": {
    "collapsed": false,
    "pycharm": {
     "name": "#%%\n"
    }
   }
  },
  {
   "cell_type": "code",
   "execution_count": null,
   "outputs": [],
   "source": [
    "employee_survey.head()"
   ],
   "metadata": {
    "collapsed": false,
    "pycharm": {
     "name": "#%%\n"
    }
   }
  },
  {
   "cell_type": "markdown",
   "source": [
    "## Merge des données en un seul tableau"
   ],
   "metadata": {
    "collapsed": false,
    "pycharm": {
     "name": "#%% md\n"
    }
   }
  },
  {
   "cell_type": "code",
   "execution_count": 34,
   "outputs": [],
   "source": [
    "merged_data = general.merge(manager_survey, how='left', on='EmployeeID')\n",
    "merged_data = merged_data.merge(employee_survey, how='left', on='EmployeeID')"
   ],
   "metadata": {
    "collapsed": false,
    "pycharm": {
     "name": "#%%\n"
    }
   }
  },
  {
   "cell_type": "code",
   "execution_count": 36,
   "outputs": [
    {
     "data": {
      "text/plain": "JobRole\nSales Executive              978\nResearch Scientist           876\nLaboratory Technician        777\nManufacturing Director       435\nHealthcare Representative    393\nManager                      306\nSales Representative         249\nResearch Director            240\nHuman Resources              156\ndtype: int64"
     },
     "execution_count": 36,
     "metadata": {},
     "output_type": "execute_result"
    }
   ],
   "source": [
    "merged_data.value_counts(\"JobRole\")"
   ],
   "metadata": {
    "collapsed": false,
    "pycharm": {
     "name": "#%%\n"
    }
   }
  },
  {
   "cell_type": "code",
   "execution_count": 37,
   "outputs": [],
   "source": [
    "def rename_head(df, header, value):\n",
    "    for i, col in enumerate(header[1:]):\n",
    "        header[i+1] = col + value\n",
    "    for i, col in enumerate(df.columns):\n",
    "        df.rename({col: header[i]}, axis=1, inplace=True)\n",
    "    return df"
   ],
   "metadata": {
    "collapsed": false,
    "pycharm": {
     "name": "#%%\n"
    }
   }
  },
  {
   "cell_type": "code",
   "execution_count": 38,
   "outputs": [],
   "source": [
    "header_in = in_time.columns.to_list()\n",
    "header_out = out_time.columns.to_list()"
   ],
   "metadata": {
    "collapsed": false,
    "pycharm": {
     "name": "#%%\n"
    }
   }
  },
  {
   "cell_type": "code",
   "execution_count": 39,
   "outputs": [],
   "source": [
    "header_in[0] = 'EmployeeId'\n",
    "header_out[0] = 'EmployeeId'"
   ],
   "metadata": {
    "collapsed": false,
    "pycharm": {
     "name": "#%%\n"
    }
   }
  },
  {
   "cell_type": "code",
   "execution_count": 40,
   "outputs": [
    {
     "data": {
      "text/plain": "      EmployeeId  2015-01-01_IN        2015-01-02_IN        2015-01-05_IN  \\\n0              1            NaN  2015-01-02 09:43:45  2015-01-05 10:08:48   \n1              2            NaN  2015-01-02 10:15:44  2015-01-05 10:21:05   \n2              3            NaN  2015-01-02 10:17:41  2015-01-05 09:50:50   \n3              4            NaN  2015-01-02 10:05:06  2015-01-05 09:56:32   \n4              5            NaN  2015-01-02 10:28:17  2015-01-05 09:49:58   \n...          ...            ...                  ...                  ...   \n4405        4406            NaN  2015-01-02 09:20:32  2015-01-05 10:17:53   \n4406        4407            NaN  2015-01-02 10:03:41                  NaN   \n4407        4408            NaN  2015-01-02 10:01:01  2015-01-05 09:33:00   \n4408        4409            NaN  2015-01-02 10:17:05  2015-01-05 10:02:27   \n4409        4410            NaN  2015-01-02 09:59:09  2015-01-05 10:16:14   \n\n            2015-01-06_IN        2015-01-07_IN        2015-01-08_IN  \\\n0     2015-01-06 09:54:26  2015-01-07 09:34:31  2015-01-08 09:51:09   \n1                     NaN  2015-01-07 09:45:17  2015-01-08 10:09:04   \n2     2015-01-06 10:14:13  2015-01-07 09:47:27  2015-01-08 10:03:40   \n3     2015-01-06 10:11:07  2015-01-07 09:37:30  2015-01-08 10:02:08   \n4     2015-01-06 09:45:28  2015-01-07 09:49:37  2015-01-08 10:19:44   \n...                   ...                  ...                  ...   \n4405  2015-01-06 10:26:51  2015-01-07 10:06:58  2015-01-08 09:45:06   \n4406  2015-01-06 09:44:00  2015-01-07 09:42:10  2015-01-08 10:00:57   \n4407  2015-01-06 09:49:17  2015-01-07 10:28:12  2015-01-08 09:47:38   \n4408  2015-01-06 10:12:50  2015-01-07 10:12:31  2015-01-08 09:42:57   \n4409  2015-01-06 09:52:30  2015-01-07 09:43:15  2015-01-08 10:06:55   \n\n            2015-01-09_IN        2015-01-12_IN        2015-01-13_IN  ...  \\\n0     2015-01-09 10:09:25  2015-01-12 09:42:53  2015-01-13 10:13:06  ...   \n1     2015-01-09 09:43:26  2015-01-12 10:00:07  2015-01-13 10:43:29  ...   \n2     2015-01-09 10:05:49  2015-01-12 10:03:47  2015-01-13 10:21:26  ...   \n3     2015-01-09 10:08:12  2015-01-12 10:13:42  2015-01-13 09:53:22  ...   \n4     2015-01-09 10:00:50  2015-01-12 10:29:27  2015-01-13 09:59:32  ...   \n...                   ...                  ...                  ...  ...   \n4405  2015-01-09 09:49:24  2015-01-12 09:37:10  2015-01-13 09:25:02  ...   \n4406  2015-01-09 09:44:04  2015-01-12 10:07:32  2015-01-13 10:05:11  ...   \n4407  2015-01-09 10:01:03  2015-01-12 09:49:12  2015-01-13 09:47:10  ...   \n4408                  NaN  2015-01-12 10:00:38  2015-01-13 09:48:03  ...   \n4409  2015-01-09 10:27:39  2015-01-12 09:47:35  2015-01-13 09:30:00  ...   \n\n            2015-12-18_IN        2015-12-21_IN        2015-12-22_IN  \\\n0                     NaN  2015-12-21 09:55:29  2015-12-22 10:04:06   \n1     2015-12-18 10:37:17  2015-12-21 09:49:02  2015-12-22 10:33:51   \n2     2015-12-18 10:15:14  2015-12-21 10:10:28  2015-12-22 09:44:44   \n3     2015-12-18 10:17:38  2015-12-21 09:58:21  2015-12-22 10:04:25   \n4     2015-12-18 09:58:35  2015-12-21 10:03:41  2015-12-22 10:10:30   \n...                   ...                  ...                  ...   \n4405  2015-12-18 10:01:06  2015-12-21 10:25:25  2015-12-22 10:16:11   \n4406  2015-12-18 09:27:32  2015-12-21 09:41:24  2015-12-22 09:50:30   \n4407  2015-12-18 10:00:57  2015-12-21 09:51:07  2015-12-22 10:02:10   \n4408  2015-12-18 09:54:33  2015-12-21 10:01:08  2015-12-22 10:10:19   \n4409  2015-12-18 10:20:40  2015-12-21 10:26:02                  NaN   \n\n            2015-12-23_IN        2015-12-24_IN 2015-12-25_IN  \\\n0     2015-12-23 10:14:27  2015-12-24 10:11:35           NaN   \n1     2015-12-23 10:12:10                  NaN           NaN   \n2     2015-12-23 10:15:54  2015-12-24 10:07:26           NaN   \n3     2015-12-23 10:11:46  2015-12-24 09:43:15           NaN   \n4     2015-12-23 10:13:36  2015-12-24 09:44:24           NaN   \n...                   ...                  ...           ...   \n4405  2015-12-23 10:04:40  2015-12-24 09:45:40           NaN   \n4406  2015-12-23 10:32:21  2015-12-24 09:47:41           NaN   \n4407  2015-12-23 09:58:29  2015-12-24 09:56:05           NaN   \n4408  2015-12-23 09:42:30  2015-12-24 09:56:05           NaN   \n4409  2015-12-23 09:53:19  2015-12-24 09:42:13           NaN   \n\n            2015-12-28_IN        2015-12-29_IN        2015-12-30_IN  \\\n0     2015-12-28 10:13:41  2015-12-29 10:03:36  2015-12-30 09:54:12   \n1     2015-12-28 09:31:45  2015-12-29 09:55:49  2015-12-30 10:32:25   \n2     2015-12-28 09:42:05  2015-12-29 09:43:36  2015-12-30 09:34:05   \n3     2015-12-28 09:52:44  2015-12-29 09:33:16  2015-12-30 10:18:12   \n4     2015-12-28 10:05:15  2015-12-29 10:30:53  2015-12-30 09:18:21   \n...                   ...                  ...                  ...   \n4405  2015-12-28 10:15:39  2015-12-29 10:10:09  2015-12-30 09:28:19   \n4406  2015-12-28 09:54:23  2015-12-29 10:13:32  2015-12-30 10:21:09   \n4407  2015-12-28 09:59:24                  NaN  2015-12-30 10:02:36   \n4408  2015-12-28 09:55:25  2015-12-29 09:54:42  2015-12-30 10:15:44   \n4409  2015-12-28 09:41:11  2015-12-29 10:05:15  2015-12-30 10:32:49   \n\n            2015-12-31_IN  \n0     2015-12-31 10:12:44  \n1     2015-12-31 09:27:20  \n2     2015-12-31 10:28:39  \n3     2015-12-31 10:01:15  \n4     2015-12-31 09:41:09  \n...                   ...  \n4405  2015-12-31 10:00:12  \n4406  2015-12-31 10:09:48  \n4407  2015-12-31 10:03:30  \n4408  2015-12-31 09:56:47  \n4409  2015-12-31 10:09:28  \n\n[4410 rows x 262 columns]",
      "text/html": "<div>\n<style scoped>\n    .dataframe tbody tr th:only-of-type {\n        vertical-align: middle;\n    }\n\n    .dataframe tbody tr th {\n        vertical-align: top;\n    }\n\n    .dataframe thead th {\n        text-align: right;\n    }\n</style>\n<table border=\"1\" class=\"dataframe\">\n  <thead>\n    <tr style=\"text-align: right;\">\n      <th></th>\n      <th>EmployeeId</th>\n      <th>2015-01-01_IN</th>\n      <th>2015-01-02_IN</th>\n      <th>2015-01-05_IN</th>\n      <th>2015-01-06_IN</th>\n      <th>2015-01-07_IN</th>\n      <th>2015-01-08_IN</th>\n      <th>2015-01-09_IN</th>\n      <th>2015-01-12_IN</th>\n      <th>2015-01-13_IN</th>\n      <th>...</th>\n      <th>2015-12-18_IN</th>\n      <th>2015-12-21_IN</th>\n      <th>2015-12-22_IN</th>\n      <th>2015-12-23_IN</th>\n      <th>2015-12-24_IN</th>\n      <th>2015-12-25_IN</th>\n      <th>2015-12-28_IN</th>\n      <th>2015-12-29_IN</th>\n      <th>2015-12-30_IN</th>\n      <th>2015-12-31_IN</th>\n    </tr>\n  </thead>\n  <tbody>\n    <tr>\n      <th>0</th>\n      <td>1</td>\n      <td>NaN</td>\n      <td>2015-01-02 09:43:45</td>\n      <td>2015-01-05 10:08:48</td>\n      <td>2015-01-06 09:54:26</td>\n      <td>2015-01-07 09:34:31</td>\n      <td>2015-01-08 09:51:09</td>\n      <td>2015-01-09 10:09:25</td>\n      <td>2015-01-12 09:42:53</td>\n      <td>2015-01-13 10:13:06</td>\n      <td>...</td>\n      <td>NaN</td>\n      <td>2015-12-21 09:55:29</td>\n      <td>2015-12-22 10:04:06</td>\n      <td>2015-12-23 10:14:27</td>\n      <td>2015-12-24 10:11:35</td>\n      <td>NaN</td>\n      <td>2015-12-28 10:13:41</td>\n      <td>2015-12-29 10:03:36</td>\n      <td>2015-12-30 09:54:12</td>\n      <td>2015-12-31 10:12:44</td>\n    </tr>\n    <tr>\n      <th>1</th>\n      <td>2</td>\n      <td>NaN</td>\n      <td>2015-01-02 10:15:44</td>\n      <td>2015-01-05 10:21:05</td>\n      <td>NaN</td>\n      <td>2015-01-07 09:45:17</td>\n      <td>2015-01-08 10:09:04</td>\n      <td>2015-01-09 09:43:26</td>\n      <td>2015-01-12 10:00:07</td>\n      <td>2015-01-13 10:43:29</td>\n      <td>...</td>\n      <td>2015-12-18 10:37:17</td>\n      <td>2015-12-21 09:49:02</td>\n      <td>2015-12-22 10:33:51</td>\n      <td>2015-12-23 10:12:10</td>\n      <td>NaN</td>\n      <td>NaN</td>\n      <td>2015-12-28 09:31:45</td>\n      <td>2015-12-29 09:55:49</td>\n      <td>2015-12-30 10:32:25</td>\n      <td>2015-12-31 09:27:20</td>\n    </tr>\n    <tr>\n      <th>2</th>\n      <td>3</td>\n      <td>NaN</td>\n      <td>2015-01-02 10:17:41</td>\n      <td>2015-01-05 09:50:50</td>\n      <td>2015-01-06 10:14:13</td>\n      <td>2015-01-07 09:47:27</td>\n      <td>2015-01-08 10:03:40</td>\n      <td>2015-01-09 10:05:49</td>\n      <td>2015-01-12 10:03:47</td>\n      <td>2015-01-13 10:21:26</td>\n      <td>...</td>\n      <td>2015-12-18 10:15:14</td>\n      <td>2015-12-21 10:10:28</td>\n      <td>2015-12-22 09:44:44</td>\n      <td>2015-12-23 10:15:54</td>\n      <td>2015-12-24 10:07:26</td>\n      <td>NaN</td>\n      <td>2015-12-28 09:42:05</td>\n      <td>2015-12-29 09:43:36</td>\n      <td>2015-12-30 09:34:05</td>\n      <td>2015-12-31 10:28:39</td>\n    </tr>\n    <tr>\n      <th>3</th>\n      <td>4</td>\n      <td>NaN</td>\n      <td>2015-01-02 10:05:06</td>\n      <td>2015-01-05 09:56:32</td>\n      <td>2015-01-06 10:11:07</td>\n      <td>2015-01-07 09:37:30</td>\n      <td>2015-01-08 10:02:08</td>\n      <td>2015-01-09 10:08:12</td>\n      <td>2015-01-12 10:13:42</td>\n      <td>2015-01-13 09:53:22</td>\n      <td>...</td>\n      <td>2015-12-18 10:17:38</td>\n      <td>2015-12-21 09:58:21</td>\n      <td>2015-12-22 10:04:25</td>\n      <td>2015-12-23 10:11:46</td>\n      <td>2015-12-24 09:43:15</td>\n      <td>NaN</td>\n      <td>2015-12-28 09:52:44</td>\n      <td>2015-12-29 09:33:16</td>\n      <td>2015-12-30 10:18:12</td>\n      <td>2015-12-31 10:01:15</td>\n    </tr>\n    <tr>\n      <th>4</th>\n      <td>5</td>\n      <td>NaN</td>\n      <td>2015-01-02 10:28:17</td>\n      <td>2015-01-05 09:49:58</td>\n      <td>2015-01-06 09:45:28</td>\n      <td>2015-01-07 09:49:37</td>\n      <td>2015-01-08 10:19:44</td>\n      <td>2015-01-09 10:00:50</td>\n      <td>2015-01-12 10:29:27</td>\n      <td>2015-01-13 09:59:32</td>\n      <td>...</td>\n      <td>2015-12-18 09:58:35</td>\n      <td>2015-12-21 10:03:41</td>\n      <td>2015-12-22 10:10:30</td>\n      <td>2015-12-23 10:13:36</td>\n      <td>2015-12-24 09:44:24</td>\n      <td>NaN</td>\n      <td>2015-12-28 10:05:15</td>\n      <td>2015-12-29 10:30:53</td>\n      <td>2015-12-30 09:18:21</td>\n      <td>2015-12-31 09:41:09</td>\n    </tr>\n    <tr>\n      <th>...</th>\n      <td>...</td>\n      <td>...</td>\n      <td>...</td>\n      <td>...</td>\n      <td>...</td>\n      <td>...</td>\n      <td>...</td>\n      <td>...</td>\n      <td>...</td>\n      <td>...</td>\n      <td>...</td>\n      <td>...</td>\n      <td>...</td>\n      <td>...</td>\n      <td>...</td>\n      <td>...</td>\n      <td>...</td>\n      <td>...</td>\n      <td>...</td>\n      <td>...</td>\n      <td>...</td>\n    </tr>\n    <tr>\n      <th>4405</th>\n      <td>4406</td>\n      <td>NaN</td>\n      <td>2015-01-02 09:20:32</td>\n      <td>2015-01-05 10:17:53</td>\n      <td>2015-01-06 10:26:51</td>\n      <td>2015-01-07 10:06:58</td>\n      <td>2015-01-08 09:45:06</td>\n      <td>2015-01-09 09:49:24</td>\n      <td>2015-01-12 09:37:10</td>\n      <td>2015-01-13 09:25:02</td>\n      <td>...</td>\n      <td>2015-12-18 10:01:06</td>\n      <td>2015-12-21 10:25:25</td>\n      <td>2015-12-22 10:16:11</td>\n      <td>2015-12-23 10:04:40</td>\n      <td>2015-12-24 09:45:40</td>\n      <td>NaN</td>\n      <td>2015-12-28 10:15:39</td>\n      <td>2015-12-29 10:10:09</td>\n      <td>2015-12-30 09:28:19</td>\n      <td>2015-12-31 10:00:12</td>\n    </tr>\n    <tr>\n      <th>4406</th>\n      <td>4407</td>\n      <td>NaN</td>\n      <td>2015-01-02 10:03:41</td>\n      <td>NaN</td>\n      <td>2015-01-06 09:44:00</td>\n      <td>2015-01-07 09:42:10</td>\n      <td>2015-01-08 10:00:57</td>\n      <td>2015-01-09 09:44:04</td>\n      <td>2015-01-12 10:07:32</td>\n      <td>2015-01-13 10:05:11</td>\n      <td>...</td>\n      <td>2015-12-18 09:27:32</td>\n      <td>2015-12-21 09:41:24</td>\n      <td>2015-12-22 09:50:30</td>\n      <td>2015-12-23 10:32:21</td>\n      <td>2015-12-24 09:47:41</td>\n      <td>NaN</td>\n      <td>2015-12-28 09:54:23</td>\n      <td>2015-12-29 10:13:32</td>\n      <td>2015-12-30 10:21:09</td>\n      <td>2015-12-31 10:09:48</td>\n    </tr>\n    <tr>\n      <th>4407</th>\n      <td>4408</td>\n      <td>NaN</td>\n      <td>2015-01-02 10:01:01</td>\n      <td>2015-01-05 09:33:00</td>\n      <td>2015-01-06 09:49:17</td>\n      <td>2015-01-07 10:28:12</td>\n      <td>2015-01-08 09:47:38</td>\n      <td>2015-01-09 10:01:03</td>\n      <td>2015-01-12 09:49:12</td>\n      <td>2015-01-13 09:47:10</td>\n      <td>...</td>\n      <td>2015-12-18 10:00:57</td>\n      <td>2015-12-21 09:51:07</td>\n      <td>2015-12-22 10:02:10</td>\n      <td>2015-12-23 09:58:29</td>\n      <td>2015-12-24 09:56:05</td>\n      <td>NaN</td>\n      <td>2015-12-28 09:59:24</td>\n      <td>NaN</td>\n      <td>2015-12-30 10:02:36</td>\n      <td>2015-12-31 10:03:30</td>\n    </tr>\n    <tr>\n      <th>4408</th>\n      <td>4409</td>\n      <td>NaN</td>\n      <td>2015-01-02 10:17:05</td>\n      <td>2015-01-05 10:02:27</td>\n      <td>2015-01-06 10:12:50</td>\n      <td>2015-01-07 10:12:31</td>\n      <td>2015-01-08 09:42:57</td>\n      <td>NaN</td>\n      <td>2015-01-12 10:00:38</td>\n      <td>2015-01-13 09:48:03</td>\n      <td>...</td>\n      <td>2015-12-18 09:54:33</td>\n      <td>2015-12-21 10:01:08</td>\n      <td>2015-12-22 10:10:19</td>\n      <td>2015-12-23 09:42:30</td>\n      <td>2015-12-24 09:56:05</td>\n      <td>NaN</td>\n      <td>2015-12-28 09:55:25</td>\n      <td>2015-12-29 09:54:42</td>\n      <td>2015-12-30 10:15:44</td>\n      <td>2015-12-31 09:56:47</td>\n    </tr>\n    <tr>\n      <th>4409</th>\n      <td>4410</td>\n      <td>NaN</td>\n      <td>2015-01-02 09:59:09</td>\n      <td>2015-01-05 10:16:14</td>\n      <td>2015-01-06 09:52:30</td>\n      <td>2015-01-07 09:43:15</td>\n      <td>2015-01-08 10:06:55</td>\n      <td>2015-01-09 10:27:39</td>\n      <td>2015-01-12 09:47:35</td>\n      <td>2015-01-13 09:30:00</td>\n      <td>...</td>\n      <td>2015-12-18 10:20:40</td>\n      <td>2015-12-21 10:26:02</td>\n      <td>NaN</td>\n      <td>2015-12-23 09:53:19</td>\n      <td>2015-12-24 09:42:13</td>\n      <td>NaN</td>\n      <td>2015-12-28 09:41:11</td>\n      <td>2015-12-29 10:05:15</td>\n      <td>2015-12-30 10:32:49</td>\n      <td>2015-12-31 10:09:28</td>\n    </tr>\n  </tbody>\n</table>\n<p>4410 rows × 262 columns</p>\n</div>"
     },
     "execution_count": 40,
     "metadata": {},
     "output_type": "execute_result"
    }
   ],
   "source": [
    "rename_head(in_time, header_in, \"_IN\")"
   ],
   "metadata": {
    "collapsed": false,
    "pycharm": {
     "name": "#%%\n"
    }
   }
  },
  {
   "cell_type": "code",
   "execution_count": 41,
   "outputs": [
    {
     "data": {
      "text/plain": "      EmployeeId  2015-01-01_OUT       2015-01-02_OUT       2015-01-05_OUT  \\\n0              1             NaN  2015-01-02 16:56:15  2015-01-05 17:20:11   \n1              2             NaN  2015-01-02 18:22:17  2015-01-05 17:48:22   \n2              3             NaN  2015-01-02 16:59:14  2015-01-05 17:06:46   \n3              4             NaN  2015-01-02 17:25:24  2015-01-05 17:14:03   \n4              5             NaN  2015-01-02 18:31:37  2015-01-05 17:49:15   \n...          ...             ...                  ...                  ...   \n4405        4406             NaN  2015-01-02 17:27:37  2015-01-05 19:08:20   \n4406        4407             NaN  2015-01-02 16:19:01                  NaN   \n4407        4408             NaN  2015-01-02 17:17:35  2015-01-05 17:08:07   \n4408        4409             NaN  2015-01-02 19:48:37  2015-01-05 19:37:40   \n4409        4410             NaN  2015-01-02 16:49:19  2015-01-05 17:33:02   \n\n           2015-01-06_OUT       2015-01-07_OUT       2015-01-08_OUT  \\\n0     2015-01-06 17:19:05  2015-01-07 16:34:55  2015-01-08 17:08:32   \n1                     NaN  2015-01-07 17:09:06  2015-01-08 17:34:04   \n2     2015-01-06 16:38:32  2015-01-07 16:33:21  2015-01-08 17:24:22   \n3     2015-01-06 17:07:42  2015-01-07 16:32:40  2015-01-08 16:53:11   \n4     2015-01-06 17:26:25  2015-01-07 17:37:59  2015-01-08 17:59:28   \n...                   ...                  ...                  ...   \n4405  2015-01-06 18:50:49  2015-01-07 18:57:40  2015-01-08 17:58:31   \n4406  2015-01-06 15:07:37  2015-01-07 15:25:50  2015-01-08 16:12:33   \n4407  2015-01-06 17:27:46  2015-01-07 18:27:22  2015-01-08 17:05:25   \n4408  2015-01-06 20:00:08  2015-01-07 19:35:59  2015-01-08 18:55:13   \n4409  2015-01-06 16:36:10  2015-01-07 16:33:47  2015-01-08 17:32:31   \n\n           2015-01-09_OUT       2015-01-12_OUT       2015-01-13_OUT  ...  \\\n0     2015-01-09 17:38:29  2015-01-12 16:58:39  2015-01-13 18:02:58  ...   \n1     2015-01-09 16:52:29  2015-01-12 17:36:48  2015-01-13 18:00:13  ...   \n2     2015-01-09 16:57:30  2015-01-12 17:28:54  2015-01-13 17:21:25  ...   \n3     2015-01-09 17:19:47  2015-01-12 17:13:37  2015-01-13 17:11:45  ...   \n4     2015-01-09 17:44:08  2015-01-12 18:51:21  2015-01-13 18:14:58  ...   \n...                   ...                  ...                  ...  ...   \n4405  2015-01-09 18:06:15  2015-01-12 17:58:48  2015-01-13 18:10:35  ...   \n4406  2015-01-09 15:26:56  2015-01-12 16:10:42  2015-01-13 16:22:43  ...   \n4407  2015-01-09 17:02:57  2015-01-12 17:35:45  2015-01-13 17:15:52  ...   \n4408                  NaN  2015-01-12 19:18:17  2015-01-13 19:24:02  ...   \n4409  2015-01-09 17:25:58  2015-01-12 16:39:21  2015-01-13 16:59:28  ...   \n\n           2015-12-18_OUT       2015-12-21_OUT       2015-12-22_OUT  \\\n0                     NaN  2015-12-21 17:15:50  2015-12-22 17:27:51   \n1     2015-12-18 18:31:28  2015-12-21 17:34:16  2015-12-22 18:16:35   \n2     2015-12-18 17:02:23  2015-12-21 17:20:17  2015-12-22 16:32:50   \n3     2015-12-18 17:55:23  2015-12-21 16:49:09  2015-12-22 17:24:00   \n4     2015-12-18 17:52:48  2015-12-21 17:43:35  2015-12-22 18:07:57   \n...                   ...                  ...                  ...   \n4405  2015-12-18 18:06:05  2015-12-21 18:35:06  2015-12-22 18:33:44   \n4406  2015-12-18 15:23:02  2015-12-21 15:31:14  2015-12-22 15:45:59   \n4407  2015-12-18 17:48:05  2015-12-21 17:43:05  2015-12-22 17:47:23   \n4408  2015-12-18 19:52:44  2015-12-21 19:21:35  2015-12-22 19:32:40   \n4409  2015-12-18 17:23:49  2015-12-21 17:26:09                  NaN   \n\n           2015-12-23_OUT       2015-12-24_OUT 2015-12-25_OUT  \\\n0     2015-12-23 16:44:44  2015-12-24 17:47:22            NaN   \n1     2015-12-23 17:38:18                  NaN            NaN   \n2     2015-12-23 16:59:43  2015-12-24 16:58:25            NaN   \n3     2015-12-23 17:36:35  2015-12-24 16:48:21            NaN   \n4     2015-12-23 18:00:49  2015-12-24 17:59:22            NaN   \n...                   ...                  ...            ...   \n4405  2015-12-23 18:40:56  2015-12-24 18:21:29            NaN   \n4406  2015-12-23 16:38:59  2015-12-24 15:47:15            NaN   \n4407  2015-12-23 17:43:37  2015-12-24 17:20:12            NaN   \n4408  2015-12-23 18:57:00  2015-12-24 19:37:57            NaN   \n4409  2015-12-23 16:36:31  2015-12-24 16:00:37            NaN   \n\n           2015-12-28_OUT       2015-12-29_OUT       2015-12-30_OUT  \\\n0     2015-12-28 18:00:07  2015-12-29 17:22:30  2015-12-30 17:40:56   \n1     2015-12-28 17:08:38  2015-12-29 17:54:46  2015-12-30 18:31:35   \n2     2015-12-28 16:43:31  2015-12-29 17:09:56  2015-12-30 17:06:25   \n3     2015-12-28 17:19:34  2015-12-29 16:58:16  2015-12-30 17:40:11   \n4     2015-12-28 17:44:59  2015-12-29 18:47:00  2015-12-30 17:15:33   \n...                   ...                  ...                  ...   \n4405  2015-12-28 18:44:35  2015-12-29 19:14:38  2015-12-30 18:24:56   \n4406  2015-12-28 15:34:34  2015-12-29 16:47:02  2015-12-30 16:03:17   \n4407  2015-12-28 17:43:28                  NaN  2015-12-30 17:48:14   \n4408  2015-12-28 19:58:36  2015-12-29 18:55:26  2015-12-30 19:37:22   \n4409  2015-12-28 17:14:44  2015-12-29 17:16:19  2015-12-30 17:29:55   \n\n           2015-12-31_OUT  \n0     2015-12-31 17:17:33  \n1     2015-12-31 17:40:58  \n2     2015-12-31 17:15:50  \n3     2015-12-31 17:09:14  \n4     2015-12-31 17:42:14  \n...                   ...  \n4405  2015-12-31 18:30:41  \n4406  2015-12-31 16:18:39  \n4407  2015-12-31 18:08:55  \n4408  2015-12-31 19:33:45  \n4409  2015-12-31 16:39:18  \n\n[4410 rows x 262 columns]",
      "text/html": "<div>\n<style scoped>\n    .dataframe tbody tr th:only-of-type {\n        vertical-align: middle;\n    }\n\n    .dataframe tbody tr th {\n        vertical-align: top;\n    }\n\n    .dataframe thead th {\n        text-align: right;\n    }\n</style>\n<table border=\"1\" class=\"dataframe\">\n  <thead>\n    <tr style=\"text-align: right;\">\n      <th></th>\n      <th>EmployeeId</th>\n      <th>2015-01-01_OUT</th>\n      <th>2015-01-02_OUT</th>\n      <th>2015-01-05_OUT</th>\n      <th>2015-01-06_OUT</th>\n      <th>2015-01-07_OUT</th>\n      <th>2015-01-08_OUT</th>\n      <th>2015-01-09_OUT</th>\n      <th>2015-01-12_OUT</th>\n      <th>2015-01-13_OUT</th>\n      <th>...</th>\n      <th>2015-12-18_OUT</th>\n      <th>2015-12-21_OUT</th>\n      <th>2015-12-22_OUT</th>\n      <th>2015-12-23_OUT</th>\n      <th>2015-12-24_OUT</th>\n      <th>2015-12-25_OUT</th>\n      <th>2015-12-28_OUT</th>\n      <th>2015-12-29_OUT</th>\n      <th>2015-12-30_OUT</th>\n      <th>2015-12-31_OUT</th>\n    </tr>\n  </thead>\n  <tbody>\n    <tr>\n      <th>0</th>\n      <td>1</td>\n      <td>NaN</td>\n      <td>2015-01-02 16:56:15</td>\n      <td>2015-01-05 17:20:11</td>\n      <td>2015-01-06 17:19:05</td>\n      <td>2015-01-07 16:34:55</td>\n      <td>2015-01-08 17:08:32</td>\n      <td>2015-01-09 17:38:29</td>\n      <td>2015-01-12 16:58:39</td>\n      <td>2015-01-13 18:02:58</td>\n      <td>...</td>\n      <td>NaN</td>\n      <td>2015-12-21 17:15:50</td>\n      <td>2015-12-22 17:27:51</td>\n      <td>2015-12-23 16:44:44</td>\n      <td>2015-12-24 17:47:22</td>\n      <td>NaN</td>\n      <td>2015-12-28 18:00:07</td>\n      <td>2015-12-29 17:22:30</td>\n      <td>2015-12-30 17:40:56</td>\n      <td>2015-12-31 17:17:33</td>\n    </tr>\n    <tr>\n      <th>1</th>\n      <td>2</td>\n      <td>NaN</td>\n      <td>2015-01-02 18:22:17</td>\n      <td>2015-01-05 17:48:22</td>\n      <td>NaN</td>\n      <td>2015-01-07 17:09:06</td>\n      <td>2015-01-08 17:34:04</td>\n      <td>2015-01-09 16:52:29</td>\n      <td>2015-01-12 17:36:48</td>\n      <td>2015-01-13 18:00:13</td>\n      <td>...</td>\n      <td>2015-12-18 18:31:28</td>\n      <td>2015-12-21 17:34:16</td>\n      <td>2015-12-22 18:16:35</td>\n      <td>2015-12-23 17:38:18</td>\n      <td>NaN</td>\n      <td>NaN</td>\n      <td>2015-12-28 17:08:38</td>\n      <td>2015-12-29 17:54:46</td>\n      <td>2015-12-30 18:31:35</td>\n      <td>2015-12-31 17:40:58</td>\n    </tr>\n    <tr>\n      <th>2</th>\n      <td>3</td>\n      <td>NaN</td>\n      <td>2015-01-02 16:59:14</td>\n      <td>2015-01-05 17:06:46</td>\n      <td>2015-01-06 16:38:32</td>\n      <td>2015-01-07 16:33:21</td>\n      <td>2015-01-08 17:24:22</td>\n      <td>2015-01-09 16:57:30</td>\n      <td>2015-01-12 17:28:54</td>\n      <td>2015-01-13 17:21:25</td>\n      <td>...</td>\n      <td>2015-12-18 17:02:23</td>\n      <td>2015-12-21 17:20:17</td>\n      <td>2015-12-22 16:32:50</td>\n      <td>2015-12-23 16:59:43</td>\n      <td>2015-12-24 16:58:25</td>\n      <td>NaN</td>\n      <td>2015-12-28 16:43:31</td>\n      <td>2015-12-29 17:09:56</td>\n      <td>2015-12-30 17:06:25</td>\n      <td>2015-12-31 17:15:50</td>\n    </tr>\n    <tr>\n      <th>3</th>\n      <td>4</td>\n      <td>NaN</td>\n      <td>2015-01-02 17:25:24</td>\n      <td>2015-01-05 17:14:03</td>\n      <td>2015-01-06 17:07:42</td>\n      <td>2015-01-07 16:32:40</td>\n      <td>2015-01-08 16:53:11</td>\n      <td>2015-01-09 17:19:47</td>\n      <td>2015-01-12 17:13:37</td>\n      <td>2015-01-13 17:11:45</td>\n      <td>...</td>\n      <td>2015-12-18 17:55:23</td>\n      <td>2015-12-21 16:49:09</td>\n      <td>2015-12-22 17:24:00</td>\n      <td>2015-12-23 17:36:35</td>\n      <td>2015-12-24 16:48:21</td>\n      <td>NaN</td>\n      <td>2015-12-28 17:19:34</td>\n      <td>2015-12-29 16:58:16</td>\n      <td>2015-12-30 17:40:11</td>\n      <td>2015-12-31 17:09:14</td>\n    </tr>\n    <tr>\n      <th>4</th>\n      <td>5</td>\n      <td>NaN</td>\n      <td>2015-01-02 18:31:37</td>\n      <td>2015-01-05 17:49:15</td>\n      <td>2015-01-06 17:26:25</td>\n      <td>2015-01-07 17:37:59</td>\n      <td>2015-01-08 17:59:28</td>\n      <td>2015-01-09 17:44:08</td>\n      <td>2015-01-12 18:51:21</td>\n      <td>2015-01-13 18:14:58</td>\n      <td>...</td>\n      <td>2015-12-18 17:52:48</td>\n      <td>2015-12-21 17:43:35</td>\n      <td>2015-12-22 18:07:57</td>\n      <td>2015-12-23 18:00:49</td>\n      <td>2015-12-24 17:59:22</td>\n      <td>NaN</td>\n      <td>2015-12-28 17:44:59</td>\n      <td>2015-12-29 18:47:00</td>\n      <td>2015-12-30 17:15:33</td>\n      <td>2015-12-31 17:42:14</td>\n    </tr>\n    <tr>\n      <th>...</th>\n      <td>...</td>\n      <td>...</td>\n      <td>...</td>\n      <td>...</td>\n      <td>...</td>\n      <td>...</td>\n      <td>...</td>\n      <td>...</td>\n      <td>...</td>\n      <td>...</td>\n      <td>...</td>\n      <td>...</td>\n      <td>...</td>\n      <td>...</td>\n      <td>...</td>\n      <td>...</td>\n      <td>...</td>\n      <td>...</td>\n      <td>...</td>\n      <td>...</td>\n      <td>...</td>\n    </tr>\n    <tr>\n      <th>4405</th>\n      <td>4406</td>\n      <td>NaN</td>\n      <td>2015-01-02 17:27:37</td>\n      <td>2015-01-05 19:08:20</td>\n      <td>2015-01-06 18:50:49</td>\n      <td>2015-01-07 18:57:40</td>\n      <td>2015-01-08 17:58:31</td>\n      <td>2015-01-09 18:06:15</td>\n      <td>2015-01-12 17:58:48</td>\n      <td>2015-01-13 18:10:35</td>\n      <td>...</td>\n      <td>2015-12-18 18:06:05</td>\n      <td>2015-12-21 18:35:06</td>\n      <td>2015-12-22 18:33:44</td>\n      <td>2015-12-23 18:40:56</td>\n      <td>2015-12-24 18:21:29</td>\n      <td>NaN</td>\n      <td>2015-12-28 18:44:35</td>\n      <td>2015-12-29 19:14:38</td>\n      <td>2015-12-30 18:24:56</td>\n      <td>2015-12-31 18:30:41</td>\n    </tr>\n    <tr>\n      <th>4406</th>\n      <td>4407</td>\n      <td>NaN</td>\n      <td>2015-01-02 16:19:01</td>\n      <td>NaN</td>\n      <td>2015-01-06 15:07:37</td>\n      <td>2015-01-07 15:25:50</td>\n      <td>2015-01-08 16:12:33</td>\n      <td>2015-01-09 15:26:56</td>\n      <td>2015-01-12 16:10:42</td>\n      <td>2015-01-13 16:22:43</td>\n      <td>...</td>\n      <td>2015-12-18 15:23:02</td>\n      <td>2015-12-21 15:31:14</td>\n      <td>2015-12-22 15:45:59</td>\n      <td>2015-12-23 16:38:59</td>\n      <td>2015-12-24 15:47:15</td>\n      <td>NaN</td>\n      <td>2015-12-28 15:34:34</td>\n      <td>2015-12-29 16:47:02</td>\n      <td>2015-12-30 16:03:17</td>\n      <td>2015-12-31 16:18:39</td>\n    </tr>\n    <tr>\n      <th>4407</th>\n      <td>4408</td>\n      <td>NaN</td>\n      <td>2015-01-02 17:17:35</td>\n      <td>2015-01-05 17:08:07</td>\n      <td>2015-01-06 17:27:46</td>\n      <td>2015-01-07 18:27:22</td>\n      <td>2015-01-08 17:05:25</td>\n      <td>2015-01-09 17:02:57</td>\n      <td>2015-01-12 17:35:45</td>\n      <td>2015-01-13 17:15:52</td>\n      <td>...</td>\n      <td>2015-12-18 17:48:05</td>\n      <td>2015-12-21 17:43:05</td>\n      <td>2015-12-22 17:47:23</td>\n      <td>2015-12-23 17:43:37</td>\n      <td>2015-12-24 17:20:12</td>\n      <td>NaN</td>\n      <td>2015-12-28 17:43:28</td>\n      <td>NaN</td>\n      <td>2015-12-30 17:48:14</td>\n      <td>2015-12-31 18:08:55</td>\n    </tr>\n    <tr>\n      <th>4408</th>\n      <td>4409</td>\n      <td>NaN</td>\n      <td>2015-01-02 19:48:37</td>\n      <td>2015-01-05 19:37:40</td>\n      <td>2015-01-06 20:00:08</td>\n      <td>2015-01-07 19:35:59</td>\n      <td>2015-01-08 18:55:13</td>\n      <td>NaN</td>\n      <td>2015-01-12 19:18:17</td>\n      <td>2015-01-13 19:24:02</td>\n      <td>...</td>\n      <td>2015-12-18 19:52:44</td>\n      <td>2015-12-21 19:21:35</td>\n      <td>2015-12-22 19:32:40</td>\n      <td>2015-12-23 18:57:00</td>\n      <td>2015-12-24 19:37:57</td>\n      <td>NaN</td>\n      <td>2015-12-28 19:58:36</td>\n      <td>2015-12-29 18:55:26</td>\n      <td>2015-12-30 19:37:22</td>\n      <td>2015-12-31 19:33:45</td>\n    </tr>\n    <tr>\n      <th>4409</th>\n      <td>4410</td>\n      <td>NaN</td>\n      <td>2015-01-02 16:49:19</td>\n      <td>2015-01-05 17:33:02</td>\n      <td>2015-01-06 16:36:10</td>\n      <td>2015-01-07 16:33:47</td>\n      <td>2015-01-08 17:32:31</td>\n      <td>2015-01-09 17:25:58</td>\n      <td>2015-01-12 16:39:21</td>\n      <td>2015-01-13 16:59:28</td>\n      <td>...</td>\n      <td>2015-12-18 17:23:49</td>\n      <td>2015-12-21 17:26:09</td>\n      <td>NaN</td>\n      <td>2015-12-23 16:36:31</td>\n      <td>2015-12-24 16:00:37</td>\n      <td>NaN</td>\n      <td>2015-12-28 17:14:44</td>\n      <td>2015-12-29 17:16:19</td>\n      <td>2015-12-30 17:29:55</td>\n      <td>2015-12-31 16:39:18</td>\n    </tr>\n  </tbody>\n</table>\n<p>4410 rows × 262 columns</p>\n</div>"
     },
     "execution_count": 41,
     "metadata": {},
     "output_type": "execute_result"
    }
   ],
   "source": [
    "rename_head(out_time, header_out, \"_OUT\")"
   ],
   "metadata": {
    "collapsed": false,
    "pycharm": {
     "name": "#%%\n"
    }
   }
  },
  {
   "cell_type": "code",
   "execution_count": 61,
   "outputs": [],
   "source": [
    "time_frame = in_time.merge(out_time, how='left', on='EmployeeId')"
   ],
   "metadata": {
    "collapsed": false,
    "pycharm": {
     "name": "#%%\n"
    }
   }
  },
  {
   "cell_type": "code",
   "execution_count": 62,
   "outputs": [
    {
     "data": {
      "text/plain": "      EmployeeId  2015-01-01_IN        2015-01-02_IN        2015-01-05_IN  \\\n0              1            NaN  2015-01-02 09:43:45  2015-01-05 10:08:48   \n1              2            NaN  2015-01-02 10:15:44  2015-01-05 10:21:05   \n2              3            NaN  2015-01-02 10:17:41  2015-01-05 09:50:50   \n3              4            NaN  2015-01-02 10:05:06  2015-01-05 09:56:32   \n4              5            NaN  2015-01-02 10:28:17  2015-01-05 09:49:58   \n...          ...            ...                  ...                  ...   \n4405        4406            NaN  2015-01-02 09:20:32  2015-01-05 10:17:53   \n4406        4407            NaN  2015-01-02 10:03:41                  NaN   \n4407        4408            NaN  2015-01-02 10:01:01  2015-01-05 09:33:00   \n4408        4409            NaN  2015-01-02 10:17:05  2015-01-05 10:02:27   \n4409        4410            NaN  2015-01-02 09:59:09  2015-01-05 10:16:14   \n\n            2015-01-06_IN        2015-01-07_IN        2015-01-08_IN  \\\n0     2015-01-06 09:54:26  2015-01-07 09:34:31  2015-01-08 09:51:09   \n1                     NaN  2015-01-07 09:45:17  2015-01-08 10:09:04   \n2     2015-01-06 10:14:13  2015-01-07 09:47:27  2015-01-08 10:03:40   \n3     2015-01-06 10:11:07  2015-01-07 09:37:30  2015-01-08 10:02:08   \n4     2015-01-06 09:45:28  2015-01-07 09:49:37  2015-01-08 10:19:44   \n...                   ...                  ...                  ...   \n4405  2015-01-06 10:26:51  2015-01-07 10:06:58  2015-01-08 09:45:06   \n4406  2015-01-06 09:44:00  2015-01-07 09:42:10  2015-01-08 10:00:57   \n4407  2015-01-06 09:49:17  2015-01-07 10:28:12  2015-01-08 09:47:38   \n4408  2015-01-06 10:12:50  2015-01-07 10:12:31  2015-01-08 09:42:57   \n4409  2015-01-06 09:52:30  2015-01-07 09:43:15  2015-01-08 10:06:55   \n\n            2015-01-09_IN        2015-01-12_IN        2015-01-13_IN  ...  \\\n0     2015-01-09 10:09:25  2015-01-12 09:42:53  2015-01-13 10:13:06  ...   \n1     2015-01-09 09:43:26  2015-01-12 10:00:07  2015-01-13 10:43:29  ...   \n2     2015-01-09 10:05:49  2015-01-12 10:03:47  2015-01-13 10:21:26  ...   \n3     2015-01-09 10:08:12  2015-01-12 10:13:42  2015-01-13 09:53:22  ...   \n4     2015-01-09 10:00:50  2015-01-12 10:29:27  2015-01-13 09:59:32  ...   \n...                   ...                  ...                  ...  ...   \n4405  2015-01-09 09:49:24  2015-01-12 09:37:10  2015-01-13 09:25:02  ...   \n4406  2015-01-09 09:44:04  2015-01-12 10:07:32  2015-01-13 10:05:11  ...   \n4407  2015-01-09 10:01:03  2015-01-12 09:49:12  2015-01-13 09:47:10  ...   \n4408                  NaN  2015-01-12 10:00:38  2015-01-13 09:48:03  ...   \n4409  2015-01-09 10:27:39  2015-01-12 09:47:35  2015-01-13 09:30:00  ...   \n\n           2015-12-18_OUT       2015-12-21_OUT       2015-12-22_OUT  \\\n0                     NaN  2015-12-21 17:15:50  2015-12-22 17:27:51   \n1     2015-12-18 18:31:28  2015-12-21 17:34:16  2015-12-22 18:16:35   \n2     2015-12-18 17:02:23  2015-12-21 17:20:17  2015-12-22 16:32:50   \n3     2015-12-18 17:55:23  2015-12-21 16:49:09  2015-12-22 17:24:00   \n4     2015-12-18 17:52:48  2015-12-21 17:43:35  2015-12-22 18:07:57   \n...                   ...                  ...                  ...   \n4405  2015-12-18 18:06:05  2015-12-21 18:35:06  2015-12-22 18:33:44   \n4406  2015-12-18 15:23:02  2015-12-21 15:31:14  2015-12-22 15:45:59   \n4407  2015-12-18 17:48:05  2015-12-21 17:43:05  2015-12-22 17:47:23   \n4408  2015-12-18 19:52:44  2015-12-21 19:21:35  2015-12-22 19:32:40   \n4409  2015-12-18 17:23:49  2015-12-21 17:26:09                  NaN   \n\n           2015-12-23_OUT       2015-12-24_OUT 2015-12-25_OUT  \\\n0     2015-12-23 16:44:44  2015-12-24 17:47:22            NaN   \n1     2015-12-23 17:38:18                  NaN            NaN   \n2     2015-12-23 16:59:43  2015-12-24 16:58:25            NaN   \n3     2015-12-23 17:36:35  2015-12-24 16:48:21            NaN   \n4     2015-12-23 18:00:49  2015-12-24 17:59:22            NaN   \n...                   ...                  ...            ...   \n4405  2015-12-23 18:40:56  2015-12-24 18:21:29            NaN   \n4406  2015-12-23 16:38:59  2015-12-24 15:47:15            NaN   \n4407  2015-12-23 17:43:37  2015-12-24 17:20:12            NaN   \n4408  2015-12-23 18:57:00  2015-12-24 19:37:57            NaN   \n4409  2015-12-23 16:36:31  2015-12-24 16:00:37            NaN   \n\n           2015-12-28_OUT       2015-12-29_OUT       2015-12-30_OUT  \\\n0     2015-12-28 18:00:07  2015-12-29 17:22:30  2015-12-30 17:40:56   \n1     2015-12-28 17:08:38  2015-12-29 17:54:46  2015-12-30 18:31:35   \n2     2015-12-28 16:43:31  2015-12-29 17:09:56  2015-12-30 17:06:25   \n3     2015-12-28 17:19:34  2015-12-29 16:58:16  2015-12-30 17:40:11   \n4     2015-12-28 17:44:59  2015-12-29 18:47:00  2015-12-30 17:15:33   \n...                   ...                  ...                  ...   \n4405  2015-12-28 18:44:35  2015-12-29 19:14:38  2015-12-30 18:24:56   \n4406  2015-12-28 15:34:34  2015-12-29 16:47:02  2015-12-30 16:03:17   \n4407  2015-12-28 17:43:28                  NaN  2015-12-30 17:48:14   \n4408  2015-12-28 19:58:36  2015-12-29 18:55:26  2015-12-30 19:37:22   \n4409  2015-12-28 17:14:44  2015-12-29 17:16:19  2015-12-30 17:29:55   \n\n           2015-12-31_OUT  \n0     2015-12-31 17:17:33  \n1     2015-12-31 17:40:58  \n2     2015-12-31 17:15:50  \n3     2015-12-31 17:09:14  \n4     2015-12-31 17:42:14  \n...                   ...  \n4405  2015-12-31 18:30:41  \n4406  2015-12-31 16:18:39  \n4407  2015-12-31 18:08:55  \n4408  2015-12-31 19:33:45  \n4409  2015-12-31 16:39:18  \n\n[4410 rows x 523 columns]",
      "text/html": "<div>\n<style scoped>\n    .dataframe tbody tr th:only-of-type {\n        vertical-align: middle;\n    }\n\n    .dataframe tbody tr th {\n        vertical-align: top;\n    }\n\n    .dataframe thead th {\n        text-align: right;\n    }\n</style>\n<table border=\"1\" class=\"dataframe\">\n  <thead>\n    <tr style=\"text-align: right;\">\n      <th></th>\n      <th>EmployeeId</th>\n      <th>2015-01-01_IN</th>\n      <th>2015-01-02_IN</th>\n      <th>2015-01-05_IN</th>\n      <th>2015-01-06_IN</th>\n      <th>2015-01-07_IN</th>\n      <th>2015-01-08_IN</th>\n      <th>2015-01-09_IN</th>\n      <th>2015-01-12_IN</th>\n      <th>2015-01-13_IN</th>\n      <th>...</th>\n      <th>2015-12-18_OUT</th>\n      <th>2015-12-21_OUT</th>\n      <th>2015-12-22_OUT</th>\n      <th>2015-12-23_OUT</th>\n      <th>2015-12-24_OUT</th>\n      <th>2015-12-25_OUT</th>\n      <th>2015-12-28_OUT</th>\n      <th>2015-12-29_OUT</th>\n      <th>2015-12-30_OUT</th>\n      <th>2015-12-31_OUT</th>\n    </tr>\n  </thead>\n  <tbody>\n    <tr>\n      <th>0</th>\n      <td>1</td>\n      <td>NaN</td>\n      <td>2015-01-02 09:43:45</td>\n      <td>2015-01-05 10:08:48</td>\n      <td>2015-01-06 09:54:26</td>\n      <td>2015-01-07 09:34:31</td>\n      <td>2015-01-08 09:51:09</td>\n      <td>2015-01-09 10:09:25</td>\n      <td>2015-01-12 09:42:53</td>\n      <td>2015-01-13 10:13:06</td>\n      <td>...</td>\n      <td>NaN</td>\n      <td>2015-12-21 17:15:50</td>\n      <td>2015-12-22 17:27:51</td>\n      <td>2015-12-23 16:44:44</td>\n      <td>2015-12-24 17:47:22</td>\n      <td>NaN</td>\n      <td>2015-12-28 18:00:07</td>\n      <td>2015-12-29 17:22:30</td>\n      <td>2015-12-30 17:40:56</td>\n      <td>2015-12-31 17:17:33</td>\n    </tr>\n    <tr>\n      <th>1</th>\n      <td>2</td>\n      <td>NaN</td>\n      <td>2015-01-02 10:15:44</td>\n      <td>2015-01-05 10:21:05</td>\n      <td>NaN</td>\n      <td>2015-01-07 09:45:17</td>\n      <td>2015-01-08 10:09:04</td>\n      <td>2015-01-09 09:43:26</td>\n      <td>2015-01-12 10:00:07</td>\n      <td>2015-01-13 10:43:29</td>\n      <td>...</td>\n      <td>2015-12-18 18:31:28</td>\n      <td>2015-12-21 17:34:16</td>\n      <td>2015-12-22 18:16:35</td>\n      <td>2015-12-23 17:38:18</td>\n      <td>NaN</td>\n      <td>NaN</td>\n      <td>2015-12-28 17:08:38</td>\n      <td>2015-12-29 17:54:46</td>\n      <td>2015-12-30 18:31:35</td>\n      <td>2015-12-31 17:40:58</td>\n    </tr>\n    <tr>\n      <th>2</th>\n      <td>3</td>\n      <td>NaN</td>\n      <td>2015-01-02 10:17:41</td>\n      <td>2015-01-05 09:50:50</td>\n      <td>2015-01-06 10:14:13</td>\n      <td>2015-01-07 09:47:27</td>\n      <td>2015-01-08 10:03:40</td>\n      <td>2015-01-09 10:05:49</td>\n      <td>2015-01-12 10:03:47</td>\n      <td>2015-01-13 10:21:26</td>\n      <td>...</td>\n      <td>2015-12-18 17:02:23</td>\n      <td>2015-12-21 17:20:17</td>\n      <td>2015-12-22 16:32:50</td>\n      <td>2015-12-23 16:59:43</td>\n      <td>2015-12-24 16:58:25</td>\n      <td>NaN</td>\n      <td>2015-12-28 16:43:31</td>\n      <td>2015-12-29 17:09:56</td>\n      <td>2015-12-30 17:06:25</td>\n      <td>2015-12-31 17:15:50</td>\n    </tr>\n    <tr>\n      <th>3</th>\n      <td>4</td>\n      <td>NaN</td>\n      <td>2015-01-02 10:05:06</td>\n      <td>2015-01-05 09:56:32</td>\n      <td>2015-01-06 10:11:07</td>\n      <td>2015-01-07 09:37:30</td>\n      <td>2015-01-08 10:02:08</td>\n      <td>2015-01-09 10:08:12</td>\n      <td>2015-01-12 10:13:42</td>\n      <td>2015-01-13 09:53:22</td>\n      <td>...</td>\n      <td>2015-12-18 17:55:23</td>\n      <td>2015-12-21 16:49:09</td>\n      <td>2015-12-22 17:24:00</td>\n      <td>2015-12-23 17:36:35</td>\n      <td>2015-12-24 16:48:21</td>\n      <td>NaN</td>\n      <td>2015-12-28 17:19:34</td>\n      <td>2015-12-29 16:58:16</td>\n      <td>2015-12-30 17:40:11</td>\n      <td>2015-12-31 17:09:14</td>\n    </tr>\n    <tr>\n      <th>4</th>\n      <td>5</td>\n      <td>NaN</td>\n      <td>2015-01-02 10:28:17</td>\n      <td>2015-01-05 09:49:58</td>\n      <td>2015-01-06 09:45:28</td>\n      <td>2015-01-07 09:49:37</td>\n      <td>2015-01-08 10:19:44</td>\n      <td>2015-01-09 10:00:50</td>\n      <td>2015-01-12 10:29:27</td>\n      <td>2015-01-13 09:59:32</td>\n      <td>...</td>\n      <td>2015-12-18 17:52:48</td>\n      <td>2015-12-21 17:43:35</td>\n      <td>2015-12-22 18:07:57</td>\n      <td>2015-12-23 18:00:49</td>\n      <td>2015-12-24 17:59:22</td>\n      <td>NaN</td>\n      <td>2015-12-28 17:44:59</td>\n      <td>2015-12-29 18:47:00</td>\n      <td>2015-12-30 17:15:33</td>\n      <td>2015-12-31 17:42:14</td>\n    </tr>\n    <tr>\n      <th>...</th>\n      <td>...</td>\n      <td>...</td>\n      <td>...</td>\n      <td>...</td>\n      <td>...</td>\n      <td>...</td>\n      <td>...</td>\n      <td>...</td>\n      <td>...</td>\n      <td>...</td>\n      <td>...</td>\n      <td>...</td>\n      <td>...</td>\n      <td>...</td>\n      <td>...</td>\n      <td>...</td>\n      <td>...</td>\n      <td>...</td>\n      <td>...</td>\n      <td>...</td>\n      <td>...</td>\n    </tr>\n    <tr>\n      <th>4405</th>\n      <td>4406</td>\n      <td>NaN</td>\n      <td>2015-01-02 09:20:32</td>\n      <td>2015-01-05 10:17:53</td>\n      <td>2015-01-06 10:26:51</td>\n      <td>2015-01-07 10:06:58</td>\n      <td>2015-01-08 09:45:06</td>\n      <td>2015-01-09 09:49:24</td>\n      <td>2015-01-12 09:37:10</td>\n      <td>2015-01-13 09:25:02</td>\n      <td>...</td>\n      <td>2015-12-18 18:06:05</td>\n      <td>2015-12-21 18:35:06</td>\n      <td>2015-12-22 18:33:44</td>\n      <td>2015-12-23 18:40:56</td>\n      <td>2015-12-24 18:21:29</td>\n      <td>NaN</td>\n      <td>2015-12-28 18:44:35</td>\n      <td>2015-12-29 19:14:38</td>\n      <td>2015-12-30 18:24:56</td>\n      <td>2015-12-31 18:30:41</td>\n    </tr>\n    <tr>\n      <th>4406</th>\n      <td>4407</td>\n      <td>NaN</td>\n      <td>2015-01-02 10:03:41</td>\n      <td>NaN</td>\n      <td>2015-01-06 09:44:00</td>\n      <td>2015-01-07 09:42:10</td>\n      <td>2015-01-08 10:00:57</td>\n      <td>2015-01-09 09:44:04</td>\n      <td>2015-01-12 10:07:32</td>\n      <td>2015-01-13 10:05:11</td>\n      <td>...</td>\n      <td>2015-12-18 15:23:02</td>\n      <td>2015-12-21 15:31:14</td>\n      <td>2015-12-22 15:45:59</td>\n      <td>2015-12-23 16:38:59</td>\n      <td>2015-12-24 15:47:15</td>\n      <td>NaN</td>\n      <td>2015-12-28 15:34:34</td>\n      <td>2015-12-29 16:47:02</td>\n      <td>2015-12-30 16:03:17</td>\n      <td>2015-12-31 16:18:39</td>\n    </tr>\n    <tr>\n      <th>4407</th>\n      <td>4408</td>\n      <td>NaN</td>\n      <td>2015-01-02 10:01:01</td>\n      <td>2015-01-05 09:33:00</td>\n      <td>2015-01-06 09:49:17</td>\n      <td>2015-01-07 10:28:12</td>\n      <td>2015-01-08 09:47:38</td>\n      <td>2015-01-09 10:01:03</td>\n      <td>2015-01-12 09:49:12</td>\n      <td>2015-01-13 09:47:10</td>\n      <td>...</td>\n      <td>2015-12-18 17:48:05</td>\n      <td>2015-12-21 17:43:05</td>\n      <td>2015-12-22 17:47:23</td>\n      <td>2015-12-23 17:43:37</td>\n      <td>2015-12-24 17:20:12</td>\n      <td>NaN</td>\n      <td>2015-12-28 17:43:28</td>\n      <td>NaN</td>\n      <td>2015-12-30 17:48:14</td>\n      <td>2015-12-31 18:08:55</td>\n    </tr>\n    <tr>\n      <th>4408</th>\n      <td>4409</td>\n      <td>NaN</td>\n      <td>2015-01-02 10:17:05</td>\n      <td>2015-01-05 10:02:27</td>\n      <td>2015-01-06 10:12:50</td>\n      <td>2015-01-07 10:12:31</td>\n      <td>2015-01-08 09:42:57</td>\n      <td>NaN</td>\n      <td>2015-01-12 10:00:38</td>\n      <td>2015-01-13 09:48:03</td>\n      <td>...</td>\n      <td>2015-12-18 19:52:44</td>\n      <td>2015-12-21 19:21:35</td>\n      <td>2015-12-22 19:32:40</td>\n      <td>2015-12-23 18:57:00</td>\n      <td>2015-12-24 19:37:57</td>\n      <td>NaN</td>\n      <td>2015-12-28 19:58:36</td>\n      <td>2015-12-29 18:55:26</td>\n      <td>2015-12-30 19:37:22</td>\n      <td>2015-12-31 19:33:45</td>\n    </tr>\n    <tr>\n      <th>4409</th>\n      <td>4410</td>\n      <td>NaN</td>\n      <td>2015-01-02 09:59:09</td>\n      <td>2015-01-05 10:16:14</td>\n      <td>2015-01-06 09:52:30</td>\n      <td>2015-01-07 09:43:15</td>\n      <td>2015-01-08 10:06:55</td>\n      <td>2015-01-09 10:27:39</td>\n      <td>2015-01-12 09:47:35</td>\n      <td>2015-01-13 09:30:00</td>\n      <td>...</td>\n      <td>2015-12-18 17:23:49</td>\n      <td>2015-12-21 17:26:09</td>\n      <td>NaN</td>\n      <td>2015-12-23 16:36:31</td>\n      <td>2015-12-24 16:00:37</td>\n      <td>NaN</td>\n      <td>2015-12-28 17:14:44</td>\n      <td>2015-12-29 17:16:19</td>\n      <td>2015-12-30 17:29:55</td>\n      <td>2015-12-31 16:39:18</td>\n    </tr>\n  </tbody>\n</table>\n<p>4410 rows × 523 columns</p>\n</div>"
     },
     "execution_count": 62,
     "metadata": {},
     "output_type": "execute_result"
    }
   ],
   "source": [
    "time_frame"
   ],
   "metadata": {
    "collapsed": false,
    "pycharm": {
     "name": "#%%\n"
    }
   }
  },
  {
   "cell_type": "code",
   "execution_count": 63,
   "outputs": [
    {
     "name": "stdout",
     "output_type": "stream",
     "text": [
      "<class 'pandas.core.frame.DataFrame'>\n",
      "Int64Index: 4410 entries, 0 to 4409\n",
      "Columns: 523 entries, EmployeeId to 2015-12-31_OUT\n",
      "dtypes: float64(24), int64(1), object(498)\n",
      "memory usage: 17.6+ MB\n"
     ]
    }
   ],
   "source": [
    "time_frame.info()"
   ],
   "metadata": {
    "collapsed": false,
    "pycharm": {
     "name": "#%%\n"
    }
   }
  },
  {
   "cell_type": "code",
   "execution_count": 64,
   "outputs": [
    {
     "data": {
      "text/plain": "      2015-01-01_IN        2015-01-02_IN        2015-01-05_IN  \\\n0               NaN  2015-01-02 09:43:45  2015-01-05 10:08:48   \n1               NaN  2015-01-02 10:15:44  2015-01-05 10:21:05   \n2               NaN  2015-01-02 10:17:41  2015-01-05 09:50:50   \n3               NaN  2015-01-02 10:05:06  2015-01-05 09:56:32   \n4               NaN  2015-01-02 10:28:17  2015-01-05 09:49:58   \n...             ...                  ...                  ...   \n4405            NaN  2015-01-02 09:20:32  2015-01-05 10:17:53   \n4406            NaN  2015-01-02 10:03:41                  NaN   \n4407            NaN  2015-01-02 10:01:01  2015-01-05 09:33:00   \n4408            NaN  2015-01-02 10:17:05  2015-01-05 10:02:27   \n4409            NaN  2015-01-02 09:59:09  2015-01-05 10:16:14   \n\n            2015-01-06_IN        2015-01-07_IN        2015-01-08_IN  \\\n0     2015-01-06 09:54:26  2015-01-07 09:34:31  2015-01-08 09:51:09   \n1                     NaN  2015-01-07 09:45:17  2015-01-08 10:09:04   \n2     2015-01-06 10:14:13  2015-01-07 09:47:27  2015-01-08 10:03:40   \n3     2015-01-06 10:11:07  2015-01-07 09:37:30  2015-01-08 10:02:08   \n4     2015-01-06 09:45:28  2015-01-07 09:49:37  2015-01-08 10:19:44   \n...                   ...                  ...                  ...   \n4405  2015-01-06 10:26:51  2015-01-07 10:06:58  2015-01-08 09:45:06   \n4406  2015-01-06 09:44:00  2015-01-07 09:42:10  2015-01-08 10:00:57   \n4407  2015-01-06 09:49:17  2015-01-07 10:28:12  2015-01-08 09:47:38   \n4408  2015-01-06 10:12:50  2015-01-07 10:12:31  2015-01-08 09:42:57   \n4409  2015-01-06 09:52:30  2015-01-07 09:43:15  2015-01-08 10:06:55   \n\n            2015-01-09_IN        2015-01-12_IN        2015-01-13_IN  \\\n0     2015-01-09 10:09:25  2015-01-12 09:42:53  2015-01-13 10:13:06   \n1     2015-01-09 09:43:26  2015-01-12 10:00:07  2015-01-13 10:43:29   \n2     2015-01-09 10:05:49  2015-01-12 10:03:47  2015-01-13 10:21:26   \n3     2015-01-09 10:08:12  2015-01-12 10:13:42  2015-01-13 09:53:22   \n4     2015-01-09 10:00:50  2015-01-12 10:29:27  2015-01-13 09:59:32   \n...                   ...                  ...                  ...   \n4405  2015-01-09 09:49:24  2015-01-12 09:37:10  2015-01-13 09:25:02   \n4406  2015-01-09 09:44:04  2015-01-12 10:07:32  2015-01-13 10:05:11   \n4407  2015-01-09 10:01:03  2015-01-12 09:49:12  2015-01-13 09:47:10   \n4408                  NaN  2015-01-12 10:00:38  2015-01-13 09:48:03   \n4409  2015-01-09 10:27:39  2015-01-12 09:47:35  2015-01-13 09:30:00   \n\n      2015-01-14_IN  ...       2015-12-18_OUT       2015-12-21_OUT  \\\n0               NaN  ...                  NaN  2015-12-21 17:15:50   \n1               NaN  ...  2015-12-18 18:31:28  2015-12-21 17:34:16   \n2               NaN  ...  2015-12-18 17:02:23  2015-12-21 17:20:17   \n3               NaN  ...  2015-12-18 17:55:23  2015-12-21 16:49:09   \n4               NaN  ...  2015-12-18 17:52:48  2015-12-21 17:43:35   \n...             ...  ...                  ...                  ...   \n4405            NaN  ...  2015-12-18 18:06:05  2015-12-21 18:35:06   \n4406            NaN  ...  2015-12-18 15:23:02  2015-12-21 15:31:14   \n4407            NaN  ...  2015-12-18 17:48:05  2015-12-21 17:43:05   \n4408            NaN  ...  2015-12-18 19:52:44  2015-12-21 19:21:35   \n4409            NaN  ...  2015-12-18 17:23:49  2015-12-21 17:26:09   \n\n           2015-12-22_OUT       2015-12-23_OUT       2015-12-24_OUT  \\\n0     2015-12-22 17:27:51  2015-12-23 16:44:44  2015-12-24 17:47:22   \n1     2015-12-22 18:16:35  2015-12-23 17:38:18                  NaN   \n2     2015-12-22 16:32:50  2015-12-23 16:59:43  2015-12-24 16:58:25   \n3     2015-12-22 17:24:00  2015-12-23 17:36:35  2015-12-24 16:48:21   \n4     2015-12-22 18:07:57  2015-12-23 18:00:49  2015-12-24 17:59:22   \n...                   ...                  ...                  ...   \n4405  2015-12-22 18:33:44  2015-12-23 18:40:56  2015-12-24 18:21:29   \n4406  2015-12-22 15:45:59  2015-12-23 16:38:59  2015-12-24 15:47:15   \n4407  2015-12-22 17:47:23  2015-12-23 17:43:37  2015-12-24 17:20:12   \n4408  2015-12-22 19:32:40  2015-12-23 18:57:00  2015-12-24 19:37:57   \n4409                  NaN  2015-12-23 16:36:31  2015-12-24 16:00:37   \n\n     2015-12-25_OUT       2015-12-28_OUT       2015-12-29_OUT  \\\n0               NaN  2015-12-28 18:00:07  2015-12-29 17:22:30   \n1               NaN  2015-12-28 17:08:38  2015-12-29 17:54:46   \n2               NaN  2015-12-28 16:43:31  2015-12-29 17:09:56   \n3               NaN  2015-12-28 17:19:34  2015-12-29 16:58:16   \n4               NaN  2015-12-28 17:44:59  2015-12-29 18:47:00   \n...             ...                  ...                  ...   \n4405            NaN  2015-12-28 18:44:35  2015-12-29 19:14:38   \n4406            NaN  2015-12-28 15:34:34  2015-12-29 16:47:02   \n4407            NaN  2015-12-28 17:43:28                  NaN   \n4408            NaN  2015-12-28 19:58:36  2015-12-29 18:55:26   \n4409            NaN  2015-12-28 17:14:44  2015-12-29 17:16:19   \n\n           2015-12-30_OUT       2015-12-31_OUT  \n0     2015-12-30 17:40:56  2015-12-31 17:17:33  \n1     2015-12-30 18:31:35  2015-12-31 17:40:58  \n2     2015-12-30 17:06:25  2015-12-31 17:15:50  \n3     2015-12-30 17:40:11  2015-12-31 17:09:14  \n4     2015-12-30 17:15:33  2015-12-31 17:42:14  \n...                   ...                  ...  \n4405  2015-12-30 18:24:56  2015-12-31 18:30:41  \n4406  2015-12-30 16:03:17  2015-12-31 16:18:39  \n4407  2015-12-30 17:48:14  2015-12-31 18:08:55  \n4408  2015-12-30 19:37:22  2015-12-31 19:33:45  \n4409  2015-12-30 17:29:55  2015-12-31 16:39:18  \n\n[4410 rows x 522 columns]",
      "text/html": "<div>\n<style scoped>\n    .dataframe tbody tr th:only-of-type {\n        vertical-align: middle;\n    }\n\n    .dataframe tbody tr th {\n        vertical-align: top;\n    }\n\n    .dataframe thead th {\n        text-align: right;\n    }\n</style>\n<table border=\"1\" class=\"dataframe\">\n  <thead>\n    <tr style=\"text-align: right;\">\n      <th></th>\n      <th>2015-01-01_IN</th>\n      <th>2015-01-02_IN</th>\n      <th>2015-01-05_IN</th>\n      <th>2015-01-06_IN</th>\n      <th>2015-01-07_IN</th>\n      <th>2015-01-08_IN</th>\n      <th>2015-01-09_IN</th>\n      <th>2015-01-12_IN</th>\n      <th>2015-01-13_IN</th>\n      <th>2015-01-14_IN</th>\n      <th>...</th>\n      <th>2015-12-18_OUT</th>\n      <th>2015-12-21_OUT</th>\n      <th>2015-12-22_OUT</th>\n      <th>2015-12-23_OUT</th>\n      <th>2015-12-24_OUT</th>\n      <th>2015-12-25_OUT</th>\n      <th>2015-12-28_OUT</th>\n      <th>2015-12-29_OUT</th>\n      <th>2015-12-30_OUT</th>\n      <th>2015-12-31_OUT</th>\n    </tr>\n  </thead>\n  <tbody>\n    <tr>\n      <th>0</th>\n      <td>NaN</td>\n      <td>2015-01-02 09:43:45</td>\n      <td>2015-01-05 10:08:48</td>\n      <td>2015-01-06 09:54:26</td>\n      <td>2015-01-07 09:34:31</td>\n      <td>2015-01-08 09:51:09</td>\n      <td>2015-01-09 10:09:25</td>\n      <td>2015-01-12 09:42:53</td>\n      <td>2015-01-13 10:13:06</td>\n      <td>NaN</td>\n      <td>...</td>\n      <td>NaN</td>\n      <td>2015-12-21 17:15:50</td>\n      <td>2015-12-22 17:27:51</td>\n      <td>2015-12-23 16:44:44</td>\n      <td>2015-12-24 17:47:22</td>\n      <td>NaN</td>\n      <td>2015-12-28 18:00:07</td>\n      <td>2015-12-29 17:22:30</td>\n      <td>2015-12-30 17:40:56</td>\n      <td>2015-12-31 17:17:33</td>\n    </tr>\n    <tr>\n      <th>1</th>\n      <td>NaN</td>\n      <td>2015-01-02 10:15:44</td>\n      <td>2015-01-05 10:21:05</td>\n      <td>NaN</td>\n      <td>2015-01-07 09:45:17</td>\n      <td>2015-01-08 10:09:04</td>\n      <td>2015-01-09 09:43:26</td>\n      <td>2015-01-12 10:00:07</td>\n      <td>2015-01-13 10:43:29</td>\n      <td>NaN</td>\n      <td>...</td>\n      <td>2015-12-18 18:31:28</td>\n      <td>2015-12-21 17:34:16</td>\n      <td>2015-12-22 18:16:35</td>\n      <td>2015-12-23 17:38:18</td>\n      <td>NaN</td>\n      <td>NaN</td>\n      <td>2015-12-28 17:08:38</td>\n      <td>2015-12-29 17:54:46</td>\n      <td>2015-12-30 18:31:35</td>\n      <td>2015-12-31 17:40:58</td>\n    </tr>\n    <tr>\n      <th>2</th>\n      <td>NaN</td>\n      <td>2015-01-02 10:17:41</td>\n      <td>2015-01-05 09:50:50</td>\n      <td>2015-01-06 10:14:13</td>\n      <td>2015-01-07 09:47:27</td>\n      <td>2015-01-08 10:03:40</td>\n      <td>2015-01-09 10:05:49</td>\n      <td>2015-01-12 10:03:47</td>\n      <td>2015-01-13 10:21:26</td>\n      <td>NaN</td>\n      <td>...</td>\n      <td>2015-12-18 17:02:23</td>\n      <td>2015-12-21 17:20:17</td>\n      <td>2015-12-22 16:32:50</td>\n      <td>2015-12-23 16:59:43</td>\n      <td>2015-12-24 16:58:25</td>\n      <td>NaN</td>\n      <td>2015-12-28 16:43:31</td>\n      <td>2015-12-29 17:09:56</td>\n      <td>2015-12-30 17:06:25</td>\n      <td>2015-12-31 17:15:50</td>\n    </tr>\n    <tr>\n      <th>3</th>\n      <td>NaN</td>\n      <td>2015-01-02 10:05:06</td>\n      <td>2015-01-05 09:56:32</td>\n      <td>2015-01-06 10:11:07</td>\n      <td>2015-01-07 09:37:30</td>\n      <td>2015-01-08 10:02:08</td>\n      <td>2015-01-09 10:08:12</td>\n      <td>2015-01-12 10:13:42</td>\n      <td>2015-01-13 09:53:22</td>\n      <td>NaN</td>\n      <td>...</td>\n      <td>2015-12-18 17:55:23</td>\n      <td>2015-12-21 16:49:09</td>\n      <td>2015-12-22 17:24:00</td>\n      <td>2015-12-23 17:36:35</td>\n      <td>2015-12-24 16:48:21</td>\n      <td>NaN</td>\n      <td>2015-12-28 17:19:34</td>\n      <td>2015-12-29 16:58:16</td>\n      <td>2015-12-30 17:40:11</td>\n      <td>2015-12-31 17:09:14</td>\n    </tr>\n    <tr>\n      <th>4</th>\n      <td>NaN</td>\n      <td>2015-01-02 10:28:17</td>\n      <td>2015-01-05 09:49:58</td>\n      <td>2015-01-06 09:45:28</td>\n      <td>2015-01-07 09:49:37</td>\n      <td>2015-01-08 10:19:44</td>\n      <td>2015-01-09 10:00:50</td>\n      <td>2015-01-12 10:29:27</td>\n      <td>2015-01-13 09:59:32</td>\n      <td>NaN</td>\n      <td>...</td>\n      <td>2015-12-18 17:52:48</td>\n      <td>2015-12-21 17:43:35</td>\n      <td>2015-12-22 18:07:57</td>\n      <td>2015-12-23 18:00:49</td>\n      <td>2015-12-24 17:59:22</td>\n      <td>NaN</td>\n      <td>2015-12-28 17:44:59</td>\n      <td>2015-12-29 18:47:00</td>\n      <td>2015-12-30 17:15:33</td>\n      <td>2015-12-31 17:42:14</td>\n    </tr>\n    <tr>\n      <th>...</th>\n      <td>...</td>\n      <td>...</td>\n      <td>...</td>\n      <td>...</td>\n      <td>...</td>\n      <td>...</td>\n      <td>...</td>\n      <td>...</td>\n      <td>...</td>\n      <td>...</td>\n      <td>...</td>\n      <td>...</td>\n      <td>...</td>\n      <td>...</td>\n      <td>...</td>\n      <td>...</td>\n      <td>...</td>\n      <td>...</td>\n      <td>...</td>\n      <td>...</td>\n      <td>...</td>\n    </tr>\n    <tr>\n      <th>4405</th>\n      <td>NaN</td>\n      <td>2015-01-02 09:20:32</td>\n      <td>2015-01-05 10:17:53</td>\n      <td>2015-01-06 10:26:51</td>\n      <td>2015-01-07 10:06:58</td>\n      <td>2015-01-08 09:45:06</td>\n      <td>2015-01-09 09:49:24</td>\n      <td>2015-01-12 09:37:10</td>\n      <td>2015-01-13 09:25:02</td>\n      <td>NaN</td>\n      <td>...</td>\n      <td>2015-12-18 18:06:05</td>\n      <td>2015-12-21 18:35:06</td>\n      <td>2015-12-22 18:33:44</td>\n      <td>2015-12-23 18:40:56</td>\n      <td>2015-12-24 18:21:29</td>\n      <td>NaN</td>\n      <td>2015-12-28 18:44:35</td>\n      <td>2015-12-29 19:14:38</td>\n      <td>2015-12-30 18:24:56</td>\n      <td>2015-12-31 18:30:41</td>\n    </tr>\n    <tr>\n      <th>4406</th>\n      <td>NaN</td>\n      <td>2015-01-02 10:03:41</td>\n      <td>NaN</td>\n      <td>2015-01-06 09:44:00</td>\n      <td>2015-01-07 09:42:10</td>\n      <td>2015-01-08 10:00:57</td>\n      <td>2015-01-09 09:44:04</td>\n      <td>2015-01-12 10:07:32</td>\n      <td>2015-01-13 10:05:11</td>\n      <td>NaN</td>\n      <td>...</td>\n      <td>2015-12-18 15:23:02</td>\n      <td>2015-12-21 15:31:14</td>\n      <td>2015-12-22 15:45:59</td>\n      <td>2015-12-23 16:38:59</td>\n      <td>2015-12-24 15:47:15</td>\n      <td>NaN</td>\n      <td>2015-12-28 15:34:34</td>\n      <td>2015-12-29 16:47:02</td>\n      <td>2015-12-30 16:03:17</td>\n      <td>2015-12-31 16:18:39</td>\n    </tr>\n    <tr>\n      <th>4407</th>\n      <td>NaN</td>\n      <td>2015-01-02 10:01:01</td>\n      <td>2015-01-05 09:33:00</td>\n      <td>2015-01-06 09:49:17</td>\n      <td>2015-01-07 10:28:12</td>\n      <td>2015-01-08 09:47:38</td>\n      <td>2015-01-09 10:01:03</td>\n      <td>2015-01-12 09:49:12</td>\n      <td>2015-01-13 09:47:10</td>\n      <td>NaN</td>\n      <td>...</td>\n      <td>2015-12-18 17:48:05</td>\n      <td>2015-12-21 17:43:05</td>\n      <td>2015-12-22 17:47:23</td>\n      <td>2015-12-23 17:43:37</td>\n      <td>2015-12-24 17:20:12</td>\n      <td>NaN</td>\n      <td>2015-12-28 17:43:28</td>\n      <td>NaN</td>\n      <td>2015-12-30 17:48:14</td>\n      <td>2015-12-31 18:08:55</td>\n    </tr>\n    <tr>\n      <th>4408</th>\n      <td>NaN</td>\n      <td>2015-01-02 10:17:05</td>\n      <td>2015-01-05 10:02:27</td>\n      <td>2015-01-06 10:12:50</td>\n      <td>2015-01-07 10:12:31</td>\n      <td>2015-01-08 09:42:57</td>\n      <td>NaN</td>\n      <td>2015-01-12 10:00:38</td>\n      <td>2015-01-13 09:48:03</td>\n      <td>NaN</td>\n      <td>...</td>\n      <td>2015-12-18 19:52:44</td>\n      <td>2015-12-21 19:21:35</td>\n      <td>2015-12-22 19:32:40</td>\n      <td>2015-12-23 18:57:00</td>\n      <td>2015-12-24 19:37:57</td>\n      <td>NaN</td>\n      <td>2015-12-28 19:58:36</td>\n      <td>2015-12-29 18:55:26</td>\n      <td>2015-12-30 19:37:22</td>\n      <td>2015-12-31 19:33:45</td>\n    </tr>\n    <tr>\n      <th>4409</th>\n      <td>NaN</td>\n      <td>2015-01-02 09:59:09</td>\n      <td>2015-01-05 10:16:14</td>\n      <td>2015-01-06 09:52:30</td>\n      <td>2015-01-07 09:43:15</td>\n      <td>2015-01-08 10:06:55</td>\n      <td>2015-01-09 10:27:39</td>\n      <td>2015-01-12 09:47:35</td>\n      <td>2015-01-13 09:30:00</td>\n      <td>NaN</td>\n      <td>...</td>\n      <td>2015-12-18 17:23:49</td>\n      <td>2015-12-21 17:26:09</td>\n      <td>NaN</td>\n      <td>2015-12-23 16:36:31</td>\n      <td>2015-12-24 16:00:37</td>\n      <td>NaN</td>\n      <td>2015-12-28 17:14:44</td>\n      <td>2015-12-29 17:16:19</td>\n      <td>2015-12-30 17:29:55</td>\n      <td>2015-12-31 16:39:18</td>\n    </tr>\n  </tbody>\n</table>\n<p>4410 rows × 522 columns</p>\n</div>"
     },
     "execution_count": 64,
     "metadata": {},
     "output_type": "execute_result"
    }
   ],
   "source": [
    "time_frame.iloc[:,1:]"
   ],
   "metadata": {
    "collapsed": false,
    "pycharm": {
     "name": "#%%\n"
    }
   }
  },
  {
   "cell_type": "code",
   "execution_count": 76,
   "outputs": [],
   "source": [
    "time_frame.iloc[:,1:]= time_frame.iloc[:,1:].apply(pd.to_datetime, errors='coerce')"
   ],
   "metadata": {
    "collapsed": false,
    "pycharm": {
     "name": "#%%\n"
    }
   }
  },
  {
   "cell_type": "code",
   "execution_count": 77,
   "outputs": [
    {
     "name": "stdout",
     "output_type": "stream",
     "text": [
      "<class 'pandas.core.frame.DataFrame'>\n",
      "Int64Index: 4410 entries, 0 to 4409\n",
      "Columns: 523 entries, EmployeeId to 2015-12-31_OUT\n",
      "dtypes: datetime64[ns](522), int64(1)\n",
      "memory usage: 17.8 MB\n"
     ]
    }
   ],
   "source": [
    "time_frame.info()"
   ],
   "metadata": {
    "collapsed": false,
    "pycharm": {
     "name": "#%%\n"
    }
   }
  },
  {
   "cell_type": "code",
   "execution_count": 78,
   "outputs": [
    {
     "data": {
      "text/plain": "      EmployeeId 2015-01-01_IN       2015-01-02_IN       2015-01-05_IN  \\\n0              1           NaT 2015-01-02 09:43:45 2015-01-05 10:08:48   \n1              2           NaT 2015-01-02 10:15:44 2015-01-05 10:21:05   \n2              3           NaT 2015-01-02 10:17:41 2015-01-05 09:50:50   \n3              4           NaT 2015-01-02 10:05:06 2015-01-05 09:56:32   \n4              5           NaT 2015-01-02 10:28:17 2015-01-05 09:49:58   \n...          ...           ...                 ...                 ...   \n4405        4406           NaT 2015-01-02 09:20:32 2015-01-05 10:17:53   \n4406        4407           NaT 2015-01-02 10:03:41                 NaT   \n4407        4408           NaT 2015-01-02 10:01:01 2015-01-05 09:33:00   \n4408        4409           NaT 2015-01-02 10:17:05 2015-01-05 10:02:27   \n4409        4410           NaT 2015-01-02 09:59:09 2015-01-05 10:16:14   \n\n           2015-01-06_IN       2015-01-07_IN       2015-01-08_IN  \\\n0    2015-01-06 09:54:26 2015-01-07 09:34:31 2015-01-08 09:51:09   \n1                    NaT 2015-01-07 09:45:17 2015-01-08 10:09:04   \n2    2015-01-06 10:14:13 2015-01-07 09:47:27 2015-01-08 10:03:40   \n3    2015-01-06 10:11:07 2015-01-07 09:37:30 2015-01-08 10:02:08   \n4    2015-01-06 09:45:28 2015-01-07 09:49:37 2015-01-08 10:19:44   \n...                  ...                 ...                 ...   \n4405 2015-01-06 10:26:51 2015-01-07 10:06:58 2015-01-08 09:45:06   \n4406 2015-01-06 09:44:00 2015-01-07 09:42:10 2015-01-08 10:00:57   \n4407 2015-01-06 09:49:17 2015-01-07 10:28:12 2015-01-08 09:47:38   \n4408 2015-01-06 10:12:50 2015-01-07 10:12:31 2015-01-08 09:42:57   \n4409 2015-01-06 09:52:30 2015-01-07 09:43:15 2015-01-08 10:06:55   \n\n           2015-01-09_IN       2015-01-12_IN       2015-01-13_IN  ...  \\\n0    2015-01-09 10:09:25 2015-01-12 09:42:53 2015-01-13 10:13:06  ...   \n1    2015-01-09 09:43:26 2015-01-12 10:00:07 2015-01-13 10:43:29  ...   \n2    2015-01-09 10:05:49 2015-01-12 10:03:47 2015-01-13 10:21:26  ...   \n3    2015-01-09 10:08:12 2015-01-12 10:13:42 2015-01-13 09:53:22  ...   \n4    2015-01-09 10:00:50 2015-01-12 10:29:27 2015-01-13 09:59:32  ...   \n...                  ...                 ...                 ...  ...   \n4405 2015-01-09 09:49:24 2015-01-12 09:37:10 2015-01-13 09:25:02  ...   \n4406 2015-01-09 09:44:04 2015-01-12 10:07:32 2015-01-13 10:05:11  ...   \n4407 2015-01-09 10:01:03 2015-01-12 09:49:12 2015-01-13 09:47:10  ...   \n4408                 NaT 2015-01-12 10:00:38 2015-01-13 09:48:03  ...   \n4409 2015-01-09 10:27:39 2015-01-12 09:47:35 2015-01-13 09:30:00  ...   \n\n          2015-12-18_OUT      2015-12-21_OUT      2015-12-22_OUT  \\\n0                    NaT 2015-12-21 17:15:50 2015-12-22 17:27:51   \n1    2015-12-18 18:31:28 2015-12-21 17:34:16 2015-12-22 18:16:35   \n2    2015-12-18 17:02:23 2015-12-21 17:20:17 2015-12-22 16:32:50   \n3    2015-12-18 17:55:23 2015-12-21 16:49:09 2015-12-22 17:24:00   \n4    2015-12-18 17:52:48 2015-12-21 17:43:35 2015-12-22 18:07:57   \n...                  ...                 ...                 ...   \n4405 2015-12-18 18:06:05 2015-12-21 18:35:06 2015-12-22 18:33:44   \n4406 2015-12-18 15:23:02 2015-12-21 15:31:14 2015-12-22 15:45:59   \n4407 2015-12-18 17:48:05 2015-12-21 17:43:05 2015-12-22 17:47:23   \n4408 2015-12-18 19:52:44 2015-12-21 19:21:35 2015-12-22 19:32:40   \n4409 2015-12-18 17:23:49 2015-12-21 17:26:09                 NaT   \n\n          2015-12-23_OUT      2015-12-24_OUT 2015-12-25_OUT  \\\n0    2015-12-23 16:44:44 2015-12-24 17:47:22            NaT   \n1    2015-12-23 17:38:18                 NaT            NaT   \n2    2015-12-23 16:59:43 2015-12-24 16:58:25            NaT   \n3    2015-12-23 17:36:35 2015-12-24 16:48:21            NaT   \n4    2015-12-23 18:00:49 2015-12-24 17:59:22            NaT   \n...                  ...                 ...            ...   \n4405 2015-12-23 18:40:56 2015-12-24 18:21:29            NaT   \n4406 2015-12-23 16:38:59 2015-12-24 15:47:15            NaT   \n4407 2015-12-23 17:43:37 2015-12-24 17:20:12            NaT   \n4408 2015-12-23 18:57:00 2015-12-24 19:37:57            NaT   \n4409 2015-12-23 16:36:31 2015-12-24 16:00:37            NaT   \n\n          2015-12-28_OUT      2015-12-29_OUT      2015-12-30_OUT  \\\n0    2015-12-28 18:00:07 2015-12-29 17:22:30 2015-12-30 17:40:56   \n1    2015-12-28 17:08:38 2015-12-29 17:54:46 2015-12-30 18:31:35   \n2    2015-12-28 16:43:31 2015-12-29 17:09:56 2015-12-30 17:06:25   \n3    2015-12-28 17:19:34 2015-12-29 16:58:16 2015-12-30 17:40:11   \n4    2015-12-28 17:44:59 2015-12-29 18:47:00 2015-12-30 17:15:33   \n...                  ...                 ...                 ...   \n4405 2015-12-28 18:44:35 2015-12-29 19:14:38 2015-12-30 18:24:56   \n4406 2015-12-28 15:34:34 2015-12-29 16:47:02 2015-12-30 16:03:17   \n4407 2015-12-28 17:43:28                 NaT 2015-12-30 17:48:14   \n4408 2015-12-28 19:58:36 2015-12-29 18:55:26 2015-12-30 19:37:22   \n4409 2015-12-28 17:14:44 2015-12-29 17:16:19 2015-12-30 17:29:55   \n\n          2015-12-31_OUT  \n0    2015-12-31 17:17:33  \n1    2015-12-31 17:40:58  \n2    2015-12-31 17:15:50  \n3    2015-12-31 17:09:14  \n4    2015-12-31 17:42:14  \n...                  ...  \n4405 2015-12-31 18:30:41  \n4406 2015-12-31 16:18:39  \n4407 2015-12-31 18:08:55  \n4408 2015-12-31 19:33:45  \n4409 2015-12-31 16:39:18  \n\n[4410 rows x 523 columns]",
      "text/html": "<div>\n<style scoped>\n    .dataframe tbody tr th:only-of-type {\n        vertical-align: middle;\n    }\n\n    .dataframe tbody tr th {\n        vertical-align: top;\n    }\n\n    .dataframe thead th {\n        text-align: right;\n    }\n</style>\n<table border=\"1\" class=\"dataframe\">\n  <thead>\n    <tr style=\"text-align: right;\">\n      <th></th>\n      <th>EmployeeId</th>\n      <th>2015-01-01_IN</th>\n      <th>2015-01-02_IN</th>\n      <th>2015-01-05_IN</th>\n      <th>2015-01-06_IN</th>\n      <th>2015-01-07_IN</th>\n      <th>2015-01-08_IN</th>\n      <th>2015-01-09_IN</th>\n      <th>2015-01-12_IN</th>\n      <th>2015-01-13_IN</th>\n      <th>...</th>\n      <th>2015-12-18_OUT</th>\n      <th>2015-12-21_OUT</th>\n      <th>2015-12-22_OUT</th>\n      <th>2015-12-23_OUT</th>\n      <th>2015-12-24_OUT</th>\n      <th>2015-12-25_OUT</th>\n      <th>2015-12-28_OUT</th>\n      <th>2015-12-29_OUT</th>\n      <th>2015-12-30_OUT</th>\n      <th>2015-12-31_OUT</th>\n    </tr>\n  </thead>\n  <tbody>\n    <tr>\n      <th>0</th>\n      <td>1</td>\n      <td>NaT</td>\n      <td>2015-01-02 09:43:45</td>\n      <td>2015-01-05 10:08:48</td>\n      <td>2015-01-06 09:54:26</td>\n      <td>2015-01-07 09:34:31</td>\n      <td>2015-01-08 09:51:09</td>\n      <td>2015-01-09 10:09:25</td>\n      <td>2015-01-12 09:42:53</td>\n      <td>2015-01-13 10:13:06</td>\n      <td>...</td>\n      <td>NaT</td>\n      <td>2015-12-21 17:15:50</td>\n      <td>2015-12-22 17:27:51</td>\n      <td>2015-12-23 16:44:44</td>\n      <td>2015-12-24 17:47:22</td>\n      <td>NaT</td>\n      <td>2015-12-28 18:00:07</td>\n      <td>2015-12-29 17:22:30</td>\n      <td>2015-12-30 17:40:56</td>\n      <td>2015-12-31 17:17:33</td>\n    </tr>\n    <tr>\n      <th>1</th>\n      <td>2</td>\n      <td>NaT</td>\n      <td>2015-01-02 10:15:44</td>\n      <td>2015-01-05 10:21:05</td>\n      <td>NaT</td>\n      <td>2015-01-07 09:45:17</td>\n      <td>2015-01-08 10:09:04</td>\n      <td>2015-01-09 09:43:26</td>\n      <td>2015-01-12 10:00:07</td>\n      <td>2015-01-13 10:43:29</td>\n      <td>...</td>\n      <td>2015-12-18 18:31:28</td>\n      <td>2015-12-21 17:34:16</td>\n      <td>2015-12-22 18:16:35</td>\n      <td>2015-12-23 17:38:18</td>\n      <td>NaT</td>\n      <td>NaT</td>\n      <td>2015-12-28 17:08:38</td>\n      <td>2015-12-29 17:54:46</td>\n      <td>2015-12-30 18:31:35</td>\n      <td>2015-12-31 17:40:58</td>\n    </tr>\n    <tr>\n      <th>2</th>\n      <td>3</td>\n      <td>NaT</td>\n      <td>2015-01-02 10:17:41</td>\n      <td>2015-01-05 09:50:50</td>\n      <td>2015-01-06 10:14:13</td>\n      <td>2015-01-07 09:47:27</td>\n      <td>2015-01-08 10:03:40</td>\n      <td>2015-01-09 10:05:49</td>\n      <td>2015-01-12 10:03:47</td>\n      <td>2015-01-13 10:21:26</td>\n      <td>...</td>\n      <td>2015-12-18 17:02:23</td>\n      <td>2015-12-21 17:20:17</td>\n      <td>2015-12-22 16:32:50</td>\n      <td>2015-12-23 16:59:43</td>\n      <td>2015-12-24 16:58:25</td>\n      <td>NaT</td>\n      <td>2015-12-28 16:43:31</td>\n      <td>2015-12-29 17:09:56</td>\n      <td>2015-12-30 17:06:25</td>\n      <td>2015-12-31 17:15:50</td>\n    </tr>\n    <tr>\n      <th>3</th>\n      <td>4</td>\n      <td>NaT</td>\n      <td>2015-01-02 10:05:06</td>\n      <td>2015-01-05 09:56:32</td>\n      <td>2015-01-06 10:11:07</td>\n      <td>2015-01-07 09:37:30</td>\n      <td>2015-01-08 10:02:08</td>\n      <td>2015-01-09 10:08:12</td>\n      <td>2015-01-12 10:13:42</td>\n      <td>2015-01-13 09:53:22</td>\n      <td>...</td>\n      <td>2015-12-18 17:55:23</td>\n      <td>2015-12-21 16:49:09</td>\n      <td>2015-12-22 17:24:00</td>\n      <td>2015-12-23 17:36:35</td>\n      <td>2015-12-24 16:48:21</td>\n      <td>NaT</td>\n      <td>2015-12-28 17:19:34</td>\n      <td>2015-12-29 16:58:16</td>\n      <td>2015-12-30 17:40:11</td>\n      <td>2015-12-31 17:09:14</td>\n    </tr>\n    <tr>\n      <th>4</th>\n      <td>5</td>\n      <td>NaT</td>\n      <td>2015-01-02 10:28:17</td>\n      <td>2015-01-05 09:49:58</td>\n      <td>2015-01-06 09:45:28</td>\n      <td>2015-01-07 09:49:37</td>\n      <td>2015-01-08 10:19:44</td>\n      <td>2015-01-09 10:00:50</td>\n      <td>2015-01-12 10:29:27</td>\n      <td>2015-01-13 09:59:32</td>\n      <td>...</td>\n      <td>2015-12-18 17:52:48</td>\n      <td>2015-12-21 17:43:35</td>\n      <td>2015-12-22 18:07:57</td>\n      <td>2015-12-23 18:00:49</td>\n      <td>2015-12-24 17:59:22</td>\n      <td>NaT</td>\n      <td>2015-12-28 17:44:59</td>\n      <td>2015-12-29 18:47:00</td>\n      <td>2015-12-30 17:15:33</td>\n      <td>2015-12-31 17:42:14</td>\n    </tr>\n    <tr>\n      <th>...</th>\n      <td>...</td>\n      <td>...</td>\n      <td>...</td>\n      <td>...</td>\n      <td>...</td>\n      <td>...</td>\n      <td>...</td>\n      <td>...</td>\n      <td>...</td>\n      <td>...</td>\n      <td>...</td>\n      <td>...</td>\n      <td>...</td>\n      <td>...</td>\n      <td>...</td>\n      <td>...</td>\n      <td>...</td>\n      <td>...</td>\n      <td>...</td>\n      <td>...</td>\n      <td>...</td>\n    </tr>\n    <tr>\n      <th>4405</th>\n      <td>4406</td>\n      <td>NaT</td>\n      <td>2015-01-02 09:20:32</td>\n      <td>2015-01-05 10:17:53</td>\n      <td>2015-01-06 10:26:51</td>\n      <td>2015-01-07 10:06:58</td>\n      <td>2015-01-08 09:45:06</td>\n      <td>2015-01-09 09:49:24</td>\n      <td>2015-01-12 09:37:10</td>\n      <td>2015-01-13 09:25:02</td>\n      <td>...</td>\n      <td>2015-12-18 18:06:05</td>\n      <td>2015-12-21 18:35:06</td>\n      <td>2015-12-22 18:33:44</td>\n      <td>2015-12-23 18:40:56</td>\n      <td>2015-12-24 18:21:29</td>\n      <td>NaT</td>\n      <td>2015-12-28 18:44:35</td>\n      <td>2015-12-29 19:14:38</td>\n      <td>2015-12-30 18:24:56</td>\n      <td>2015-12-31 18:30:41</td>\n    </tr>\n    <tr>\n      <th>4406</th>\n      <td>4407</td>\n      <td>NaT</td>\n      <td>2015-01-02 10:03:41</td>\n      <td>NaT</td>\n      <td>2015-01-06 09:44:00</td>\n      <td>2015-01-07 09:42:10</td>\n      <td>2015-01-08 10:00:57</td>\n      <td>2015-01-09 09:44:04</td>\n      <td>2015-01-12 10:07:32</td>\n      <td>2015-01-13 10:05:11</td>\n      <td>...</td>\n      <td>2015-12-18 15:23:02</td>\n      <td>2015-12-21 15:31:14</td>\n      <td>2015-12-22 15:45:59</td>\n      <td>2015-12-23 16:38:59</td>\n      <td>2015-12-24 15:47:15</td>\n      <td>NaT</td>\n      <td>2015-12-28 15:34:34</td>\n      <td>2015-12-29 16:47:02</td>\n      <td>2015-12-30 16:03:17</td>\n      <td>2015-12-31 16:18:39</td>\n    </tr>\n    <tr>\n      <th>4407</th>\n      <td>4408</td>\n      <td>NaT</td>\n      <td>2015-01-02 10:01:01</td>\n      <td>2015-01-05 09:33:00</td>\n      <td>2015-01-06 09:49:17</td>\n      <td>2015-01-07 10:28:12</td>\n      <td>2015-01-08 09:47:38</td>\n      <td>2015-01-09 10:01:03</td>\n      <td>2015-01-12 09:49:12</td>\n      <td>2015-01-13 09:47:10</td>\n      <td>...</td>\n      <td>2015-12-18 17:48:05</td>\n      <td>2015-12-21 17:43:05</td>\n      <td>2015-12-22 17:47:23</td>\n      <td>2015-12-23 17:43:37</td>\n      <td>2015-12-24 17:20:12</td>\n      <td>NaT</td>\n      <td>2015-12-28 17:43:28</td>\n      <td>NaT</td>\n      <td>2015-12-30 17:48:14</td>\n      <td>2015-12-31 18:08:55</td>\n    </tr>\n    <tr>\n      <th>4408</th>\n      <td>4409</td>\n      <td>NaT</td>\n      <td>2015-01-02 10:17:05</td>\n      <td>2015-01-05 10:02:27</td>\n      <td>2015-01-06 10:12:50</td>\n      <td>2015-01-07 10:12:31</td>\n      <td>2015-01-08 09:42:57</td>\n      <td>NaT</td>\n      <td>2015-01-12 10:00:38</td>\n      <td>2015-01-13 09:48:03</td>\n      <td>...</td>\n      <td>2015-12-18 19:52:44</td>\n      <td>2015-12-21 19:21:35</td>\n      <td>2015-12-22 19:32:40</td>\n      <td>2015-12-23 18:57:00</td>\n      <td>2015-12-24 19:37:57</td>\n      <td>NaT</td>\n      <td>2015-12-28 19:58:36</td>\n      <td>2015-12-29 18:55:26</td>\n      <td>2015-12-30 19:37:22</td>\n      <td>2015-12-31 19:33:45</td>\n    </tr>\n    <tr>\n      <th>4409</th>\n      <td>4410</td>\n      <td>NaT</td>\n      <td>2015-01-02 09:59:09</td>\n      <td>2015-01-05 10:16:14</td>\n      <td>2015-01-06 09:52:30</td>\n      <td>2015-01-07 09:43:15</td>\n      <td>2015-01-08 10:06:55</td>\n      <td>2015-01-09 10:27:39</td>\n      <td>2015-01-12 09:47:35</td>\n      <td>2015-01-13 09:30:00</td>\n      <td>...</td>\n      <td>2015-12-18 17:23:49</td>\n      <td>2015-12-21 17:26:09</td>\n      <td>NaT</td>\n      <td>2015-12-23 16:36:31</td>\n      <td>2015-12-24 16:00:37</td>\n      <td>NaT</td>\n      <td>2015-12-28 17:14:44</td>\n      <td>2015-12-29 17:16:19</td>\n      <td>2015-12-30 17:29:55</td>\n      <td>2015-12-31 16:39:18</td>\n    </tr>\n  </tbody>\n</table>\n<p>4410 rows × 523 columns</p>\n</div>"
     },
     "execution_count": 78,
     "metadata": {},
     "output_type": "execute_result"
    }
   ],
   "source": [
    "time_frame"
   ],
   "metadata": {
    "collapsed": false,
    "pycharm": {
     "name": "#%%\n"
    }
   }
  },
  {
   "cell_type": "code",
   "execution_count": null,
   "outputs": [],
   "source": [
    "def search_working_hours(df, employee_id):\n",
    "    for"
   ],
   "metadata": {
    "collapsed": false,
    "pycharm": {
     "name": "#%%\n"
    }
   }
  }
 ],
 "metadata": {
  "kernelspec": {
   "display_name": "Python 3",
   "language": "python",
   "name": "python3"
  },
  "language_info": {
   "codemirror_mode": {
    "name": "ipython",
    "version": 2
   },
   "file_extension": ".py",
   "mimetype": "text/x-python",
   "name": "python",
   "nbconvert_exporter": "python",
   "pygments_lexer": "ipython2",
   "version": "2.7.6"
  }
 },
 "nbformat": 4,
 "nbformat_minor": 0
}