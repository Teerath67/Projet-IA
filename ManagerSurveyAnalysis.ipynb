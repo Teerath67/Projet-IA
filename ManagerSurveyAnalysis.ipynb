{
 "cells": [
  {
   "cell_type": "markdown",
   "metadata": {
    "collapsed": true,
    "pycharm": {
     "name": "#%% md\n"
    }
   },
   "source": [
    "## Manager Survey Analysis"
   ],
   "outputs": []
  },
  {
   "cell_type": "code",
   "execution_count": 3,
   "outputs": [],
   "source": [
    "# imports\n",
    "import numpy as np\n",
    "import os\n",
    "import pandas as pd"
   ],
   "metadata": {
    "collapsed": false,
    "pycharm": {
     "name": "#%%\n"
    }
   }
  },
  {
   "cell_type": "markdown",
   "source": [
    "### Importation des données"
   ],
   "metadata": {
    "collapsed": false
   }
  },
  {
   "cell_type": "code",
   "execution_count": 2,
   "outputs": [
    {
     "ename": "NameError",
     "evalue": "name 'os' is not defined",
     "output_type": "error",
     "traceback": [
      "\u001B[1;31m---------------------------------------------------------------------------\u001B[0m",
      "\u001B[1;31mNameError\u001B[0m                                 Traceback (most recent call last)",
      "\u001B[1;32m~\\AppData\\Local\\Temp/ipykernel_12060/1144716844.py\u001B[0m in \u001B[0;36m<module>\u001B[1;34m\u001B[0m\n\u001B[1;32m----> 1\u001B[1;33m \u001B[0mGENERAL_PATH\u001B[0m \u001B[1;33m=\u001B[0m \u001B[0mos\u001B[0m\u001B[1;33m.\u001B[0m\u001B[0mpath\u001B[0m\u001B[1;33m.\u001B[0m\u001B[0mjoin\u001B[0m\u001B[1;33m(\u001B[0m\u001B[1;34m\"Datasets\"\u001B[0m\u001B[1;33m)\u001B[0m\u001B[1;33m\u001B[0m\u001B[1;33m\u001B[0m\u001B[0m\n\u001B[0m\u001B[0;32m      2\u001B[0m \u001B[0mIN_OUT_TIME_PATH\u001B[0m \u001B[1;33m=\u001B[0m \u001B[0mos\u001B[0m\u001B[1;33m.\u001B[0m\u001B[0mpath\u001B[0m\u001B[1;33m.\u001B[0m\u001B[0mjoin\u001B[0m\u001B[1;33m(\u001B[0m\u001B[1;34m\"Datasets\"\u001B[0m\u001B[1;33m,\u001B[0m \u001B[1;34m\"in_out_time\"\u001B[0m\u001B[1;33m)\u001B[0m\u001B[1;33m\u001B[0m\u001B[1;33m\u001B[0m\u001B[0m\n\u001B[0;32m      3\u001B[0m \u001B[1;33m\u001B[0m\u001B[0m\n\u001B[0;32m      4\u001B[0m \u001B[0mMANAGER_SURVEY_CSV\u001B[0m \u001B[1;33m=\u001B[0m \u001B[1;34m\"manager_survey_data.csv\"\u001B[0m\u001B[1;33m\u001B[0m\u001B[1;33m\u001B[0m\u001B[0m\n\u001B[0;32m      5\u001B[0m \u001B[0mGENERAL_CSV\u001B[0m \u001B[1;33m=\u001B[0m \u001B[1;34m\"general_data.csv\"\u001B[0m\u001B[1;33m\u001B[0m\u001B[1;33m\u001B[0m\u001B[0m\n",
      "\u001B[1;31mNameError\u001B[0m: name 'os' is not defined"
     ]
    }
   ],
   "source": [
    "GENERAL_PATH = os.path.join(\"Datasets\")\n",
    "IN_OUT_TIME_PATH = os.path.join(\"Datasets\", \"in_out_time\")\n",
    "\n",
    "MANAGER_SURVEY_CSV = \"manager_survey_data.csv\"\n",
    "GENERAL_CSV = \"general_data.csv\"\n",
    "IN_TIME_CSV = \"in_time.csv\"\n",
    "OUT_TIME_CSV = \"out_time.csv\"\n",
    "\n",
    "def load_data(general_path, csv):\n",
    "    csv_path = os.path.join(general_path, csv)\n",
    "    df = pd.read_csv(csv_path, sep=\",\", header = 0)\n",
    "    return df"
   ],
   "metadata": {
    "collapsed": false,
    "pycharm": {
     "name": "#%%\n"
    }
   }
  },
  {
   "cell_type": "code",
   "execution_count": 25,
   "outputs": [],
   "source": [
    "manager_survey = load_data(GENERAL_PATH, MANAGER_SURVEY_CSV)\n",
    "general = load_data(GENERAL_PATH, GENERAL_CSV)"
   ],
   "metadata": {
    "collapsed": false,
    "pycharm": {
     "name": "#%%\n"
    }
   }
  },
  {
   "cell_type": "markdown",
   "source": [
    "### Check des données"
   ],
   "metadata": {
    "collapsed": false
   }
  },
  {
   "cell_type": "code",
   "execution_count": 1,
   "outputs": [
    {
     "ename": "NameError",
     "evalue": "name 'manager_survey' is not defined",
     "output_type": "error",
     "traceback": [
      "\u001B[1;31m---------------------------------------------------------------------------\u001B[0m",
      "\u001B[1;31mNameError\u001B[0m                                 Traceback (most recent call last)",
      "\u001B[1;32m~\\AppData\\Local\\Temp/ipykernel_12060/1590607862.py\u001B[0m in \u001B[0;36m<module>\u001B[1;34m\u001B[0m\n\u001B[1;32m----> 1\u001B[1;33m \u001B[0mmanager_survey\u001B[0m\u001B[1;33m.\u001B[0m\u001B[0mhead\u001B[0m\u001B[1;33m(\u001B[0m\u001B[1;36m10\u001B[0m\u001B[1;33m)\u001B[0m\u001B[1;33m\u001B[0m\u001B[1;33m\u001B[0m\u001B[0m\n\u001B[0m",
      "\u001B[1;31mNameError\u001B[0m: name 'manager_survey' is not defined"
     ]
    }
   ],
   "source": [
    "manager_survey.head(10)"
   ],
   "metadata": {
    "collapsed": false,
    "pycharm": {
     "name": "#%%\n"
    }
   }
  },
  {
   "cell_type": "code",
   "execution_count": 27,
   "outputs": [
    {
     "data": {
      "text/plain": "        EmployeeID  JobInvolvement  PerformanceRating\ncount  4410.000000     4410.000000        4410.000000\nmean   2205.500000        2.729932           3.153741\nstd    1273.201673        0.711400           0.360742\nmin       1.000000        1.000000           3.000000\n25%    1103.250000        2.000000           3.000000\n50%    2205.500000        3.000000           3.000000\n75%    3307.750000        3.000000           3.000000\nmax    4410.000000        4.000000           4.000000",
      "text/html": "<div>\n<style scoped>\n    .dataframe tbody tr th:only-of-type {\n        vertical-align: middle;\n    }\n\n    .dataframe tbody tr th {\n        vertical-align: top;\n    }\n\n    .dataframe thead th {\n        text-align: right;\n    }\n</style>\n<table border=\"1\" class=\"dataframe\">\n  <thead>\n    <tr style=\"text-align: right;\">\n      <th></th>\n      <th>EmployeeID</th>\n      <th>JobInvolvement</th>\n      <th>PerformanceRating</th>\n    </tr>\n  </thead>\n  <tbody>\n    <tr>\n      <th>count</th>\n      <td>4410.000000</td>\n      <td>4410.000000</td>\n      <td>4410.000000</td>\n    </tr>\n    <tr>\n      <th>mean</th>\n      <td>2205.500000</td>\n      <td>2.729932</td>\n      <td>3.153741</td>\n    </tr>\n    <tr>\n      <th>std</th>\n      <td>1273.201673</td>\n      <td>0.711400</td>\n      <td>0.360742</td>\n    </tr>\n    <tr>\n      <th>min</th>\n      <td>1.000000</td>\n      <td>1.000000</td>\n      <td>3.000000</td>\n    </tr>\n    <tr>\n      <th>25%</th>\n      <td>1103.250000</td>\n      <td>2.000000</td>\n      <td>3.000000</td>\n    </tr>\n    <tr>\n      <th>50%</th>\n      <td>2205.500000</td>\n      <td>3.000000</td>\n      <td>3.000000</td>\n    </tr>\n    <tr>\n      <th>75%</th>\n      <td>3307.750000</td>\n      <td>3.000000</td>\n      <td>3.000000</td>\n    </tr>\n    <tr>\n      <th>max</th>\n      <td>4410.000000</td>\n      <td>4.000000</td>\n      <td>4.000000</td>\n    </tr>\n  </tbody>\n</table>\n</div>"
     },
     "execution_count": 27,
     "metadata": {},
     "output_type": "execute_result"
    }
   ],
   "source": [
    "manager_survey.describe()"
   ],
   "metadata": {
    "collapsed": false,
    "pycharm": {
     "name": "#%%\n"
    }
   }
  },
  {
   "cell_type": "code",
   "execution_count": 28,
   "outputs": [
    {
     "data": {
      "text/plain": "     EmployeeID  JobInvolvement  PerformanceRating\nsum     9726255           12039              13908",
      "text/html": "<div>\n<style scoped>\n    .dataframe tbody tr th:only-of-type {\n        vertical-align: middle;\n    }\n\n    .dataframe tbody tr th {\n        vertical-align: top;\n    }\n\n    .dataframe thead th {\n        text-align: right;\n    }\n</style>\n<table border=\"1\" class=\"dataframe\">\n  <thead>\n    <tr style=\"text-align: right;\">\n      <th></th>\n      <th>EmployeeID</th>\n      <th>JobInvolvement</th>\n      <th>PerformanceRating</th>\n    </tr>\n  </thead>\n  <tbody>\n    <tr>\n      <th>sum</th>\n      <td>9726255</td>\n      <td>12039</td>\n      <td>13908</td>\n    </tr>\n  </tbody>\n</table>\n</div>"
     },
     "execution_count": 28,
     "metadata": {},
     "output_type": "execute_result"
    }
   ],
   "source": [
    "manager_survey.agg(['sum'])"
   ],
   "metadata": {
    "collapsed": false,
    "pycharm": {
     "name": "#%%\n"
    }
   }
  },
  {
   "cell_type": "markdown",
   "source": [
    "### Attrition"
   ],
   "metadata": {
    "collapsed": false
   }
  },
  {
   "cell_type": "code",
   "execution_count": 29,
   "outputs": [
    {
     "data": {
      "text/plain": "      EmployeeID  JobInvolvement  PerformanceRating Attrition\n0              1               3                  3        No\n1              2               2                  4       Yes\n2              3               3                  3        No\n3              4               2                  3        No\n4              5               3                  3        No\n...          ...             ...                ...       ...\n4405        4406               3                  3        No\n4406        4407               2                  3        No\n4407        4408               3                  4        No\n4408        4409               2                  3        No\n4409        4410               4                  3        No\n\n[4410 rows x 4 columns]",
      "text/html": "<div>\n<style scoped>\n    .dataframe tbody tr th:only-of-type {\n        vertical-align: middle;\n    }\n\n    .dataframe tbody tr th {\n        vertical-align: top;\n    }\n\n    .dataframe thead th {\n        text-align: right;\n    }\n</style>\n<table border=\"1\" class=\"dataframe\">\n  <thead>\n    <tr style=\"text-align: right;\">\n      <th></th>\n      <th>EmployeeID</th>\n      <th>JobInvolvement</th>\n      <th>PerformanceRating</th>\n      <th>Attrition</th>\n    </tr>\n  </thead>\n  <tbody>\n    <tr>\n      <th>0</th>\n      <td>1</td>\n      <td>3</td>\n      <td>3</td>\n      <td>No</td>\n    </tr>\n    <tr>\n      <th>1</th>\n      <td>2</td>\n      <td>2</td>\n      <td>4</td>\n      <td>Yes</td>\n    </tr>\n    <tr>\n      <th>2</th>\n      <td>3</td>\n      <td>3</td>\n      <td>3</td>\n      <td>No</td>\n    </tr>\n    <tr>\n      <th>3</th>\n      <td>4</td>\n      <td>2</td>\n      <td>3</td>\n      <td>No</td>\n    </tr>\n    <tr>\n      <th>4</th>\n      <td>5</td>\n      <td>3</td>\n      <td>3</td>\n      <td>No</td>\n    </tr>\n    <tr>\n      <th>...</th>\n      <td>...</td>\n      <td>...</td>\n      <td>...</td>\n      <td>...</td>\n    </tr>\n    <tr>\n      <th>4405</th>\n      <td>4406</td>\n      <td>3</td>\n      <td>3</td>\n      <td>No</td>\n    </tr>\n    <tr>\n      <th>4406</th>\n      <td>4407</td>\n      <td>2</td>\n      <td>3</td>\n      <td>No</td>\n    </tr>\n    <tr>\n      <th>4407</th>\n      <td>4408</td>\n      <td>3</td>\n      <td>4</td>\n      <td>No</td>\n    </tr>\n    <tr>\n      <th>4408</th>\n      <td>4409</td>\n      <td>2</td>\n      <td>3</td>\n      <td>No</td>\n    </tr>\n    <tr>\n      <th>4409</th>\n      <td>4410</td>\n      <td>4</td>\n      <td>3</td>\n      <td>No</td>\n    </tr>\n  </tbody>\n</table>\n<p>4410 rows × 4 columns</p>\n</div>"
     },
     "execution_count": 29,
     "metadata": {},
     "output_type": "execute_result"
    }
   ],
   "source": [
    "merged_esd = manager_survey.merge(general[['EmployeeID','Attrition']], how='left', on='EmployeeID', )\n",
    "merged_esd"
   ],
   "metadata": {
    "collapsed": false,
    "pycharm": {
     "name": "#%%\n"
    }
   }
  },
  {
   "cell_type": "markdown",
   "source": [
    "### Analyse Job Involvement"
   ],
   "metadata": {
    "collapsed": false
   }
  },
  {
   "cell_type": "markdown",
   "source": [
    "#### Moyenne jobInvolvement"
   ],
   "metadata": {
    "collapsed": false
   }
  },
  {
   "cell_type": "code",
   "execution_count": 30,
   "outputs": [
    {
     "data": {
      "text/plain": "sum    2.729932\nName: JobInvolvement, dtype: float64"
     },
     "execution_count": 30,
     "metadata": {},
     "output_type": "execute_result"
    }
   ],
   "source": [
    "manager_survey['JobInvolvement'].agg(['sum']) / manager_survey['JobInvolvement'].count()"
   ],
   "metadata": {
    "collapsed": false,
    "pycharm": {
     "name": "#%%\n"
    }
   }
  },
  {
   "cell_type": "markdown",
   "source": [
    "#### Quantité de notes identiques"
   ],
   "metadata": {
    "collapsed": false
   }
  },
  {
   "cell_type": "code",
   "execution_count": 31,
   "outputs": [
    {
     "data": {
      "text/plain": "3    2604\n2    1125\n4     432\n1     249\nName: JobInvolvement, dtype: int64"
     },
     "execution_count": 31,
     "metadata": {},
     "output_type": "execute_result"
    }
   ],
   "source": [
    "manager_survey['JobInvolvement'].value_counts()"
   ],
   "metadata": {
    "collapsed": false,
    "pycharm": {
     "name": "#%%\n"
    }
   }
  },
  {
   "cell_type": "markdown",
   "source": [
    "- 249 Employés ont été notés à 1\n",
    "- 1125 Employés ont été notés à 2\n",
    "- 2604 Employés ont été notés à 3\n",
    "- 432 Employés ont été notés à 4"
   ],
   "metadata": {
    "collapsed": false
   }
  },
  {
   "cell_type": "code",
   "execution_count": 32,
   "outputs": [
    {
     "data": {
      "text/plain": "<AxesSubplot:ylabel='Frequency'>"
     },
     "execution_count": 32,
     "metadata": {},
     "output_type": "execute_result"
    },
    {
     "data": {
      "text/plain": "<Figure size 432x288 with 1 Axes>",
      "image/png": "[encoded data removed]"
     },
     "metadata": {
      "needs_background": "light"
     },
     "output_type": "display_data"
    }
   ],
   "source": [
    "manager_survey[\"JobInvolvement\"].plot.hist()"
   ],
   "metadata": {
    "collapsed": false,
    "pycharm": {
     "name": "#%%\n"
    }
   }
  },
  {
   "cell_type": "markdown",
   "source": [
    "### Analyse Job Involvement"
   ],
   "metadata": {
    "collapsed": false
   }
  },
  {
   "cell_type": "markdown",
   "source": [
    "#### Moyenne PerformanceRating"
   ],
   "metadata": {
    "collapsed": false
   }
  },
  {
   "cell_type": "code",
   "execution_count": 33,
   "outputs": [
    {
     "data": {
      "text/plain": "sum    3.153741\nName: PerformanceRating, dtype: float64"
     },
     "execution_count": 33,
     "metadata": {},
     "output_type": "execute_result"
    }
   ],
   "source": [
    "manager_survey['PerformanceRating'].agg(['sum']) / manager_survey['PerformanceRating'].count()"
   ],
   "metadata": {
    "collapsed": false,
    "pycharm": {
     "name": "#%%\n"
    }
   }
  },
  {
   "cell_type": "markdown",
   "source": [
    "#### Quantité de notes identiques"
   ],
   "metadata": {
    "collapsed": false
   }
  },
  {
   "cell_type": "code",
   "execution_count": 34,
   "outputs": [
    {
     "data": {
      "text/plain": "3    3732\n4     678\nName: PerformanceRating, dtype: int64"
     },
     "execution_count": 34,
     "metadata": {},
     "output_type": "execute_result"
    }
   ],
   "source": [
    "manager_survey['PerformanceRating'].value_counts()"
   ],
   "metadata": {
    "collapsed": false,
    "pycharm": {
     "name": "#%%\n"
    }
   }
  },
  {
   "cell_type": "markdown",
   "source": [
    "- Aucun employés n'a été noté à 1\n",
    "- Aucun employés n'a été noté à 2\n",
    "- 3732 Employés ont été notés à 3\n",
    "- 678 Employés ont été notés à 4"
   ],
   "metadata": {
    "collapsed": false
   }
  },
  {
   "cell_type": "code",
   "execution_count": 35,
   "outputs": [
    {
     "data": {
      "text/plain": "<AxesSubplot:ylabel='Frequency'>"
     },
     "execution_count": 35,
     "metadata": {},
     "output_type": "execute_result"
    },
    {
     "data": {
      "text/plain": "<Figure size 432x288 with 1 Axes>",
      "image/png": "[encoded data removed]"
     },
     "metadata": {
      "needs_background": "light"
     },
     "output_type": "display_data"
    }
   ],
   "source": [
    "manager_survey[\"PerformanceRating\"].plot.hist()"
   ],
   "metadata": {
    "collapsed": false,
    "pycharm": {
     "name": "#%%\n"
    }
   }
  },
  {
   "cell_type": "markdown",
   "source": [
    "### Analyse générale"
   ],
   "metadata": {
    "collapsed": false
   }
  },
  {
   "cell_type": "markdown",
   "source": [
    "On garde les employés ayant un JobInvolvement inférieur à 3 (C'est à dire faible ou moyen)"
   ],
   "metadata": {
    "collapsed": false
   }
  },
  {
   "cell_type": "code",
   "execution_count": 36,
   "outputs": [
    {
     "data": {
      "text/plain": "      EmployeeID  JobInvolvement Attrition\n1            2.0             2.0       Yes\n3            4.0             2.0        No\n10          11.0             2.0        No\n13          14.0             2.0       Yes\n16          17.0             2.0        No\n...          ...             ...       ...\n4399      4400.0             2.0        No\n4401      4402.0             2.0        No\n4404      4405.0             2.0        No\n4406      4407.0             2.0        No\n4408      4409.0             2.0        No\n\n[1374 rows x 3 columns]",
      "text/html": "<div>\n<style scoped>\n    .dataframe tbody tr th:only-of-type {\n        vertical-align: middle;\n    }\n\n    .dataframe tbody tr th {\n        vertical-align: top;\n    }\n\n    .dataframe thead th {\n        text-align: right;\n    }\n</style>\n<table border=\"1\" class=\"dataframe\">\n  <thead>\n    <tr style=\"text-align: right;\">\n      <th></th>\n      <th>EmployeeID</th>\n      <th>JobInvolvement</th>\n      <th>Attrition</th>\n    </tr>\n  </thead>\n  <tbody>\n    <tr>\n      <th>1</th>\n      <td>2.0</td>\n      <td>2.0</td>\n      <td>Yes</td>\n    </tr>\n    <tr>\n      <th>3</th>\n      <td>4.0</td>\n      <td>2.0</td>\n      <td>No</td>\n    </tr>\n    <tr>\n      <th>10</th>\n      <td>11.0</td>\n      <td>2.0</td>\n      <td>No</td>\n    </tr>\n    <tr>\n      <th>13</th>\n      <td>14.0</td>\n      <td>2.0</td>\n      <td>Yes</td>\n    </tr>\n    <tr>\n      <th>16</th>\n      <td>17.0</td>\n      <td>2.0</td>\n      <td>No</td>\n    </tr>\n    <tr>\n      <th>...</th>\n      <td>...</td>\n      <td>...</td>\n      <td>...</td>\n    </tr>\n    <tr>\n      <th>4399</th>\n      <td>4400.0</td>\n      <td>2.0</td>\n      <td>No</td>\n    </tr>\n    <tr>\n      <th>4401</th>\n      <td>4402.0</td>\n      <td>2.0</td>\n      <td>No</td>\n    </tr>\n    <tr>\n      <th>4404</th>\n      <td>4405.0</td>\n      <td>2.0</td>\n      <td>No</td>\n    </tr>\n    <tr>\n      <th>4406</th>\n      <td>4407.0</td>\n      <td>2.0</td>\n      <td>No</td>\n    </tr>\n    <tr>\n      <th>4408</th>\n      <td>4409.0</td>\n      <td>2.0</td>\n      <td>No</td>\n    </tr>\n  </tbody>\n</table>\n<p>1374 rows × 3 columns</p>\n</div>"
     },
     "execution_count": 36,
     "metadata": {},
     "output_type": "execute_result"
    }
   ],
   "source": [
    "\n",
    "ms_df = merged_esd.where(manager_survey[\"JobInvolvement\"] < 3) # replace where false\n",
    "\n",
    "index_with_nan = ms_df.index[ms_df.isnull().any(axis=1)]\n",
    "\n",
    "ms_df = ms_df.drop(['PerformanceRating'], axis=1)\n",
    "ms_df.drop(index_with_nan, inplace=True)\n",
    "ms_df\n"
   ],
   "metadata": {
    "collapsed": false,
    "pycharm": {
     "name": "#%%\n"
    }
   }
  },
  {
   "cell_type": "markdown",
   "source": [
    "Sur ces employés, seulement 234 sont parti de l'entreprise"
   ],
   "metadata": {
    "collapsed": false
   }
  },
  {
   "cell_type": "code",
   "execution_count": 37,
   "outputs": [
    {
     "data": {
      "text/plain": "EmployeeID        234\nJobInvolvement    234\nAttrition         234\ndtype: int64"
     },
     "execution_count": 37,
     "metadata": {},
     "output_type": "execute_result"
    }
   ],
   "source": [
    "ms_df.where(ms_df[\"Attrition\"] == \"Yes\").count()"
   ],
   "metadata": {
    "collapsed": false,
    "pycharm": {
     "name": "#%%\n"
    }
   }
  },
  {
   "cell_type": "markdown",
   "source": [
    "Sur un total de 711 employés qui ont démissionés"
   ],
   "metadata": {
    "collapsed": false
   }
  },
  {
   "cell_type": "code",
   "execution_count": 38,
   "outputs": [
    {
     "data": {
      "text/plain": "EmployeeID           711\nJobInvolvement       711\nPerformanceRating    711\nAttrition            711\ndtype: int64"
     },
     "execution_count": 38,
     "metadata": {},
     "output_type": "execute_result"
    }
   ],
   "source": [
    "merged_esd.where(merged_esd[\"Attrition\"] == \"Yes\").count()"
   ],
   "metadata": {
    "collapsed": false,
    "pycharm": {
     "name": "#%%\n"
    }
   }
  },
  {
   "cell_type": "code",
   "execution_count": 42,
   "outputs": [
    {
     "data": {
      "text/plain": "<Figure size 662.325x288 with 1 Axes>",
      "image/png": "[encoded data removed]"
     },
     "metadata": {
      "needs_background": "light"
     },
     "output_type": "display_data"
    }
   ],
   "source": [
    "from itertools import product\n",
    "import seaborn as sns\n",
    "\n",
    "y = 'Attrition'\n",
    "\n",
    "def add_annotation(cat, c):\n",
    "    x1 = c.get_x() + c.get_width() / 2 - .12\n",
    "    y1 = c.get_y() + c.get_height() + 2\n",
    "\n",
    "    cat.ax.annotate(format(c.get_height(), \".2f\"), (x1, y1), size=15)\n",
    "\n",
    "def plot_hist(name, data, annot=True):\n",
    "\n",
    "    x = name\n",
    "\n",
    "    temp_data = (data\n",
    "                 .groupby(x)[y]\n",
    "                 .value_counts(normalize=True)\n",
    "                 .mul(100)\n",
    "                 .rename('percent')\n",
    "                 .reset_index())\n",
    "    sns.set_context('talk', font_scale = 1)\n",
    "    catp = sns.catplot(data=temp_data, x=name, y='percent', hue='Attrition', kind='bar', height = 4, aspect = 2, legend_out=True, margin_titles=True)\n",
    "    catp.set_xticklabels(rotation=30, fontsize=15, horizontalalignment='right',)\n",
    "\n",
    "    if annot:\n",
    "        spots = catp.ax.patches\n",
    "        # need to separate in half de spots to put them in the right order (first half: Attrition=no; second half Attrition=yes)\n",
    "        mid = len(spots) // 2\n",
    "\n",
    "        for i in range(0, mid) :\n",
    "\n",
    "            add_annotation(catp, spots[i])\n",
    "            add_annotation(catp, spots[mid + i])\n",
    "\n",
    "hue_order = ['No', 'Yes']\n",
    "\n",
    "plot_hist('JobInvolvement', merged_esd)"
   ],
   "metadata": {
    "collapsed": false,
    "pycharm": {
     "name": "#%%\n"
    }
   }
  }
 ],
 "metadata": {
  "kernelspec": {
   "display_name": "Python 3 (ipykernel)",
   "language": "python",
   "name": "python3"
  },
  "language_info": {
   "codemirror_mode": {
    "name": "ipython",
    "version": 3
   },
   "file_extension": ".py",
   "mimetype": "text/x-python",
   "name": "python",
   "nbconvert_exporter": "python",
   "pygments_lexer": "ipython3",
   "version": "3.7.9"
  }
 },
 "nbformat": 4,
 "nbformat_minor": 1
}